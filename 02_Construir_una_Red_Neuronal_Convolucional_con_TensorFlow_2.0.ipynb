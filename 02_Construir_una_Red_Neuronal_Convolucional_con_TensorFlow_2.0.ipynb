{
 "cells": [
  {
   "cell_type": "markdown",
   "metadata": {
    "colab_type": "text",
    "id": "zJMS8p3wfPXO"
   },
   "source": [
    "## Paso 1: Instalar las dependencias y la configuración del notebook en GPU"
   ]
  },
  {
   "cell_type": "code",
   "execution_count": null,
   "metadata": {},
   "outputs": [],
   "source": [
    "#!pip install tensorflow-gpu==2.5.0"
   ]
  },
  {
   "cell_type": "markdown",
   "metadata": {
    "colab_type": "text",
    "id": "lRHFdNYAfWKJ"
   },
   "source": [
    "## Paso 2: Importar las librerías necesarias"
   ]
  },
  {
   "cell_type": "code",
   "execution_count": 2,
   "metadata": {
    "colab": {
     "base_uri": "https://localhost:8080/",
     "height": 37
    },
    "colab_type": "code",
    "executionInfo": {
     "elapsed": 2846,
     "status": "ok",
     "timestamp": 1599237193516,
     "user": {
      "displayName": "Juan Gabriel Gomila Salas",
      "photoUrl": "https://lh3.googleusercontent.com/a-/AOh14GjdBM44CAiZlDiF-IkE0NJQH-LHKt1b0A22wmma_w=s64",
      "userId": "03106941341701838274"
     },
     "user_tz": -120
    },
    "id": "tS5xFeQwe9Xu",
    "outputId": "5099a4ec-28a1-48bc-c052-eda0857acacf"
   },
   "outputs": [
    {
     "name": "stderr",
     "output_type": "stream",
     "text": [
      "2022-03-05 20:30:39.264495: I tensorflow/stream_executor/platform/default/dso_loader.cc:53] Successfully opened dynamic library libcudart.so.11.0\n"
     ]
    },
    {
     "data": {
      "text/plain": [
       "'2.5.0'"
      ]
     },
     "execution_count": 2,
     "metadata": {},
     "output_type": "execute_result"
    }
   ],
   "source": [
    "import tensorflow as tf\n",
    "import matplotlib.pyplot as plt\n",
    "\n",
    "from tensorflow.keras.datasets import cifar10\n",
    "\n",
    "%matplotlib inline\n",
    "tf.__version__"
   ]
  },
  {
   "cell_type": "code",
   "execution_count": 3,
   "metadata": {},
   "outputs": [
    {
     "data": {
      "text/plain": [
       "tuple"
      ]
     },
     "metadata": {},
     "output_type": "display_data"
    },
    {
     "data": {
      "text/plain": [
       "50000"
      ]
     },
     "metadata": {},
     "output_type": "display_data"
    }
   ],
   "source": [
    "display(type(cifar10.load_data()))\n",
    "display(len(cifar10.load_data()[0][0]))\n",
    "#(cifar10.load_data()[0])"
   ]
  },
  {
   "cell_type": "markdown",
   "metadata": {
    "colab_type": "text",
    "id": "e8zYubaPfy-S"
   },
   "source": [
    "## Paso 3: Pre procesado de datos\n"
   ]
  },
  {
   "cell_type": "markdown",
   "metadata": {
    "colab_type": "text",
    "id": "AOAGjiPogF0w"
   },
   "source": [
    "### Cargar el dataset  Cifar10"
   ]
  },
  {
   "cell_type": "code",
   "execution_count": 4,
   "metadata": {
    "colab": {},
    "colab_type": "code",
    "executionInfo": {
     "elapsed": 1192,
     "status": "ok",
     "timestamp": 1599237247076,
     "user": {
      "displayName": "Juan Gabriel Gomila Salas",
      "photoUrl": "https://lh3.googleusercontent.com/a-/AOh14GjdBM44CAiZlDiF-IkE0NJQH-LHKt1b0A22wmma_w=s64",
      "userId": "03106941341701838274"
     },
     "user_tz": -120
    },
    "id": "v1N6LbS-e9a1"
   },
   "outputs": [],
   "source": [
    "# Configurar el nombre de las clases del dataset\n",
    "class_names = ['avión', 'coche', 'pájaro', 'gato', 'ciervo', 'perro', 'rana', 'caballo', 'barco', 'camión']"
   ]
  },
  {
   "cell_type": "markdown",
   "metadata": {},
   "source": [
    "### Cargar el dataset de la forma:\n",
    "$$\n",
    "F(f_{1}(X_{train}, Y_{train}) ,f_{2}(X_{test}, Y_{test})) = [a,b,c,d]=[5000,32,32,3] \\\\ \n",
    "$$\n",
    "$a$ es el número de imágenes, $(b,c,d)$ es la dimension espacial \n"
   ]
  },
  {
   "cell_type": "code",
   "execution_count": 5,
   "metadata": {
    "colab": {
     "base_uri": "https://localhost:8080/",
     "height": 52
    },
    "colab_type": "code",
    "executionInfo": {
     "elapsed": 9632,
     "status": "ok",
     "timestamp": 1599237257133,
     "user": {
      "displayName": "Juan Gabriel Gomila Salas",
      "photoUrl": "https://lh3.googleusercontent.com/a-/AOh14GjdBM44CAiZlDiF-IkE0NJQH-LHKt1b0A22wmma_w=s64",
      "userId": "03106941341701838274"
     },
     "user_tz": -120
    },
    "id": "f13-8-m_fqKP",
    "outputId": "01b760c5-81a5-4b3b-cfcc-d64c3317a4e2"
   },
   "outputs": [],
   "source": [
    "(X_train, y_train), (X_test, y_test) = cifar10.load_data()"
   ]
  },
  {
   "cell_type": "markdown",
   "metadata": {
    "colab_type": "text",
    "id": "XqDIpsJWgUkz"
   },
   "source": [
    "### Normalización de las imágenes"
   ]
  },
  {
   "cell_type": "code",
   "execution_count": 6,
   "metadata": {
    "colab": {},
    "colab_type": "code",
    "executionInfo": {
     "elapsed": 985,
     "status": "ok",
     "timestamp": 1599237258816,
     "user": {
      "displayName": "Juan Gabriel Gomila Salas",
      "photoUrl": "https://lh3.googleusercontent.com/a-/AOh14GjdBM44CAiZlDiF-IkE0NJQH-LHKt1b0A22wmma_w=s64",
      "userId": "03106941341701838274"
     },
     "user_tz": -120
    },
    "id": "-QFncPlpgNmU"
   },
   "outputs": [],
   "source": [
    "X_train = X_train / 255.0"
   ]
  },
  {
   "cell_type": "code",
   "execution_count": 7,
   "metadata": {
    "colab": {
     "base_uri": "https://localhost:8080/",
     "height": 35
    },
    "colab_type": "code",
    "executionInfo": {
     "elapsed": 664,
     "status": "ok",
     "timestamp": 1599237259536,
     "user": {
      "displayName": "Juan Gabriel Gomila Salas",
      "photoUrl": "https://lh3.googleusercontent.com/a-/AOh14GjdBM44CAiZlDiF-IkE0NJQH-LHKt1b0A22wmma_w=s64",
      "userId": "03106941341701838274"
     },
     "user_tz": -120
    },
    "id": "L1rFHX67gc6G",
    "outputId": "137a6b27-4cca-437b-b260-c4fe41e8285b"
   },
   "outputs": [
    {
     "data": {
      "text/plain": [
       "(50000, 32, 32, 3)"
      ]
     },
     "execution_count": 7,
     "metadata": {},
     "output_type": "execute_result"
    }
   ],
   "source": [
    "X_train.shape"
   ]
  },
  {
   "cell_type": "code",
   "execution_count": 8,
   "metadata": {
    "colab": {},
    "colab_type": "code",
    "executionInfo": {
     "elapsed": 694,
     "status": "ok",
     "timestamp": 1599237260732,
     "user": {
      "displayName": "Juan Gabriel Gomila Salas",
      "photoUrl": "https://lh3.googleusercontent.com/a-/AOh14GjdBM44CAiZlDiF-IkE0NJQH-LHKt1b0A22wmma_w=s64",
      "userId": "03106941341701838274"
     },
     "user_tz": -120
    },
    "id": "Ve2WbRGWgc3I"
   },
   "outputs": [],
   "source": [
    "X_test = X_test / 255.0"
   ]
  },
  {
   "cell_type": "code",
   "execution_count": 9,
   "metadata": {
    "colab": {
     "base_uri": "https://localhost:8080/",
     "height": 284
    },
    "colab_type": "code",
    "executionInfo": {
     "elapsed": 904,
     "status": "ok",
     "timestamp": 1599237262151,
     "user": {
      "displayName": "Juan Gabriel Gomila Salas",
      "photoUrl": "https://lh3.googleusercontent.com/a-/AOh14GjdBM44CAiZlDiF-IkE0NJQH-LHKt1b0A22wmma_w=s64",
      "userId": "03106941341701838274"
     },
     "user_tz": -120
    },
    "id": "7jwvNZ82gh9d",
    "outputId": "517e7cd6-9d51-4934-bfb6-7318776513e0"
   },
   "outputs": [
    {
     "data": {
      "text/plain": [
       "<matplotlib.image.AxesImage at 0x7fbd4a73a850>"
      ]
     },
     "execution_count": 9,
     "metadata": {},
     "output_type": "execute_result"
    },
    {
     "data": {
      "image/png": "[encoded data removed]",
      "text/plain": [
       "<Figure size 432x288 with 1 Axes>"
      ]
     },
     "metadata": {
      "needs_background": "light"
     },
     "output_type": "display_data"
    }
   ],
   "source": [
    "#plt.imshow(X_test[10])\n",
    "plt.imshow(cifar10.load_data()[0][0][8])"
   ]
  },
  {
   "cell_type": "code",
   "execution_count": 10,
   "metadata": {
    "colab": {
     "base_uri": "https://localhost:8080/",
     "height": 35
    },
    "colab_type": "code",
    "executionInfo": {
     "elapsed": 645,
     "status": "ok",
     "timestamp": 1599237265342,
     "user": {
      "displayName": "Juan Gabriel Gomila Salas",
      "photoUrl": "https://lh3.googleusercontent.com/a-/AOh14GjdBM44CAiZlDiF-IkE0NJQH-LHKt1b0A22wmma_w=s64",
      "userId": "03106941341701838274"
     },
     "user_tz": -120
    },
    "id": "KVa5IU6o-tJL",
    "outputId": "75bea9bd-ee54-4fa8-eaf8-3e5bd7fc6121"
   },
   "outputs": [
    {
     "data": {
      "text/plain": [
       "array([8], dtype=uint8)"
      ]
     },
     "execution_count": 10,
     "metadata": {},
     "output_type": "execute_result"
    }
   ],
   "source": [
    "y_train[8]"
   ]
  },
  {
   "cell_type": "markdown",
   "metadata": {
    "colab_type": "text",
    "id": "HXiuZulIguyf"
   },
   "source": [
    "## Paso 4: Construir una red neuronal convolucional"
   ]
  },
  {
   "cell_type": "markdown",
   "metadata": {
    "colab_type": "text",
    "id": "ZFTetk8ngy0f"
   },
   "source": [
    "### Definir el modelo"
   ]
  },
  {
   "cell_type": "code",
   "execution_count": 11,
   "metadata": {},
   "outputs": [],
   "source": [
    "#tf.keras.Model?"
   ]
  },
  {
   "cell_type": "code",
   "execution_count": 12,
   "metadata": {
    "colab": {},
    "colab_type": "code",
    "executionInfo": {
     "elapsed": 6071,
     "status": "ok",
     "timestamp": 1599237273169,
     "user": {
      "displayName": "Juan Gabriel Gomila Salas",
      "photoUrl": "https://lh3.googleusercontent.com/a-/AOh14GjdBM44CAiZlDiF-IkE0NJQH-LHKt1b0A22wmma_w=s64",
      "userId": "03106941341701838274"
     },
     "user_tz": -120
    },
    "id": "1TR0JGP5gq2i"
   },
   "outputs": [
    {
     "name": "stderr",
     "output_type": "stream",
     "text": [
      "2022-03-05 20:30:41.844777: I tensorflow/stream_executor/platform/default/dso_loader.cc:53] Successfully opened dynamic library libcuda.so.1\n",
      "2022-03-05 20:30:41.903270: I tensorflow/stream_executor/cuda/cuda_gpu_executor.cc:937] successful NUMA node read from SysFS had negative value (-1), but there must be at least one NUMA node, so returning NUMA node zero\n",
      "2022-03-05 20:30:41.903637: I tensorflow/core/common_runtime/gpu/gpu_device.cc:1733] Found device 0 with properties: \n",
      "pciBusID: 0000:09:00.0 name: NVIDIA GeForce RTX 3070 computeCapability: 8.6\n",
      "coreClock: 1.725GHz coreCount: 46 deviceMemorySize: 7.79GiB deviceMemoryBandwidth: 417.29GiB/s\n",
      "2022-03-05 20:30:41.903654: I tensorflow/stream_executor/platform/default/dso_loader.cc:53] Successfully opened dynamic library libcudart.so.11.0\n",
      "2022-03-05 20:30:41.906478: I tensorflow/stream_executor/platform/default/dso_loader.cc:53] Successfully opened dynamic library libcublas.so.11\n",
      "2022-03-05 20:30:41.906508: I tensorflow/stream_executor/platform/default/dso_loader.cc:53] Successfully opened dynamic library libcublasLt.so.11\n",
      "2022-03-05 20:30:41.907949: I tensorflow/stream_executor/platform/default/dso_loader.cc:53] Successfully opened dynamic library libcufft.so.10\n",
      "2022-03-05 20:30:41.908108: I tensorflow/stream_executor/platform/default/dso_loader.cc:53] Successfully opened dynamic library libcurand.so.10\n",
      "2022-03-05 20:30:41.908439: I tensorflow/stream_executor/platform/default/dso_loader.cc:53] Successfully opened dynamic library libcusolver.so.11\n",
      "2022-03-05 20:30:41.909014: I tensorflow/stream_executor/platform/default/dso_loader.cc:53] Successfully opened dynamic library libcusparse.so.11\n",
      "2022-03-05 20:30:41.909092: I tensorflow/stream_executor/platform/default/dso_loader.cc:53] Successfully opened dynamic library libcudnn.so.8\n",
      "2022-03-05 20:30:41.909185: I tensorflow/stream_executor/cuda/cuda_gpu_executor.cc:937] successful NUMA node read from SysFS had negative value (-1), but there must be at least one NUMA node, so returning NUMA node zero\n",
      "2022-03-05 20:30:41.909591: I tensorflow/stream_executor/cuda/cuda_gpu_executor.cc:937] successful NUMA node read from SysFS had negative value (-1), but there must be at least one NUMA node, so returning NUMA node zero\n",
      "2022-03-05 20:30:41.909905: I tensorflow/core/common_runtime/gpu/gpu_device.cc:1871] Adding visible gpu devices: 0\n",
      "2022-03-05 20:30:41.910237: I tensorflow/core/platform/cpu_feature_guard.cc:142] This TensorFlow binary is optimized with oneAPI Deep Neural Network Library (oneDNN) to use the following CPU instructions in performance-critical operations:  AVX2 FMA\n",
      "To enable them in other operations, rebuild TensorFlow with the appropriate compiler flags.\n",
      "2022-03-05 20:30:41.910705: I tensorflow/stream_executor/cuda/cuda_gpu_executor.cc:937] successful NUMA node read from SysFS had negative value (-1), but there must be at least one NUMA node, so returning NUMA node zero\n",
      "2022-03-05 20:30:41.911031: I tensorflow/core/common_runtime/gpu/gpu_device.cc:1733] Found device 0 with properties: \n",
      "pciBusID: 0000:09:00.0 name: NVIDIA GeForce RTX 3070 computeCapability: 8.6\n",
      "coreClock: 1.725GHz coreCount: 46 deviceMemorySize: 7.79GiB deviceMemoryBandwidth: 417.29GiB/s\n",
      "2022-03-05 20:30:41.911073: I tensorflow/stream_executor/cuda/cuda_gpu_executor.cc:937] successful NUMA node read from SysFS had negative value (-1), but there must be at least one NUMA node, so returning NUMA node zero\n",
      "2022-03-05 20:30:41.911407: I tensorflow/stream_executor/cuda/cuda_gpu_executor.cc:937] successful NUMA node read from SysFS had negative value (-1), but there must be at least one NUMA node, so returning NUMA node zero\n",
      "2022-03-05 20:30:41.911709: I tensorflow/core/common_runtime/gpu/gpu_device.cc:1871] Adding visible gpu devices: 0\n",
      "2022-03-05 20:30:41.911730: I tensorflow/stream_executor/platform/default/dso_loader.cc:53] Successfully opened dynamic library libcudart.so.11.0\n",
      "2022-03-05 20:30:42.247112: I tensorflow/core/common_runtime/gpu/gpu_device.cc:1258] Device interconnect StreamExecutor with strength 1 edge matrix:\n",
      "2022-03-05 20:30:42.247140: I tensorflow/core/common_runtime/gpu/gpu_device.cc:1264]      0 \n",
      "2022-03-05 20:30:42.247146: I tensorflow/core/common_runtime/gpu/gpu_device.cc:1277] 0:   N \n",
      "2022-03-05 20:30:42.247327: I tensorflow/stream_executor/cuda/cuda_gpu_executor.cc:937] successful NUMA node read from SysFS had negative value (-1), but there must be at least one NUMA node, so returning NUMA node zero\n",
      "2022-03-05 20:30:42.247682: I tensorflow/stream_executor/cuda/cuda_gpu_executor.cc:937] successful NUMA node read from SysFS had negative value (-1), but there must be at least one NUMA node, so returning NUMA node zero\n",
      "2022-03-05 20:30:42.248000: I tensorflow/stream_executor/cuda/cuda_gpu_executor.cc:937] successful NUMA node read from SysFS had negative value (-1), but there must be at least one NUMA node, so returning NUMA node zero\n",
      "2022-03-05 20:30:42.248342: I tensorflow/core/common_runtime/gpu/gpu_device.cc:1418] Created TensorFlow device (/job:localhost/replica:0/task:0/device:GPU:0 with 5681 MB memory) -> physical GPU (device: 0, name: NVIDIA GeForce RTX 3070, pci bus id: 0000:09:00.0, compute capability: 8.6)\n"
     ]
    }
   ],
   "source": [
    "model = tf.keras.models.Sequential()"
   ]
  },
  {
   "cell_type": "markdown",
   "metadata": {
    "colab_type": "text",
    "id": "j92d4FE0hTZV"
   },
   "source": [
    "### Añadir la primera capa de convolución\n",
    "\n",
    "Hyper parámetros de la capa de la RNC:\n",
    "- Filtros: 128\n",
    "- Tamaño del kernel: 3\n",
    "- padding: same\n",
    "- Función de Activación: relu\n",
    "- input_shape: (32, 32, 3)\n"
   ]
  },
  {
   "cell_type": "code",
   "execution_count": 13,
   "metadata": {
    "colab": {},
    "colab_type": "code",
    "executionInfo": {
     "elapsed": 701,
     "status": "ok",
     "timestamp": 1599237273872,
     "user": {
      "displayName": "Juan Gabriel Gomila Salas",
      "photoUrl": "https://lh3.googleusercontent.com/a-/AOh14GjdBM44CAiZlDiF-IkE0NJQH-LHKt1b0A22wmma_w=s64",
      "userId": "03106941341701838274"
     },
     "user_tz": -120
    },
    "id": "LSkL1iOvg_dE"
   },
   "outputs": [],
   "source": [
    "model.add(tf.keras.layers.Conv2D(filters=128, \n",
    "                                 kernel_size=3, \n",
    "                                 padding=\"same\", \n",
    "                                 activation=\"relu\", \n",
    "                                 kernel_initializer='glorot_uniform',\n",
    "                                 input_shape=[32, 32, 3]))"
   ]
  },
  {
   "cell_type": "markdown",
   "metadata": {
    "colab_type": "text",
    "id": "gfRAaRmWiSlZ"
   },
   "source": [
    "### Añadir una segunda capa convolucional y la capa de max-pooling \n",
    "\n",
    "Hyper parámetros de la capa de la RNC:\n",
    "- Filtros: 64\n",
    "- Tamaño del kernel: 3\n",
    "- padding: same\n",
    "- Función de Activación: relu\n",
    "\n",
    "Hyper parámetros de la capa de MaxPool:\n",
    "- pool_size: 2\n",
    "- strides: 2\n",
    "- padding: valid"
   ]
  },
  {
   "cell_type": "code",
   "execution_count": 14,
   "metadata": {},
   "outputs": [],
   "source": [
    "model.add(tf.keras.layers.Conv2D(filters=64, \n",
    "                                 kernel_size=4,\n",
    "                                 padding=\"same\", \n",
    "                                 activation=\"relu\"\n",
    "                                ))\n",
    "model.add(tf.keras.layers.MaxPool2D(pool_size=2, \n",
    "                                    strides=2, \n",
    "                                    padding='valid'))"
   ]
  },
  {
   "cell_type": "markdown",
   "metadata": {
    "colab_type": "text",
    "id": "wd8ERDyvin-0"
   },
   "source": [
    "### Añadir la tercera y cuarta capa convolucional\n",
    "\n",
    "Hyper parámetros de la capa de la RNC:\n",
    "- Filtros: 64\n",
    "- Tamaño del kernel: 3\n",
    "- padding: same\n",
    "- Función de Activación: relu\n",
    "- Kernel: glorot_uniform\n",
    "\n",
    "Hyper parámetros de la capa de la MaxPool:\n",
    "- pool_size: 2\n",
    "- strides: 2\n",
    "- padding: valid\n"
   ]
  },
  {
   "cell_type": "code",
   "execution_count": 15,
   "metadata": {
    "colab": {},
    "colab_type": "code",
    "executionInfo": {
     "elapsed": 891,
     "status": "ok",
     "timestamp": 1599237281179,
     "user": {
      "displayName": "Juan Gabriel Gomila Salas",
      "photoUrl": "https://lh3.googleusercontent.com/a-/AOh14GjdBM44CAiZlDiF-IkE0NJQH-LHKt1b0A22wmma_w=s64",
      "userId": "03106941341701838274"
     },
     "user_tz": -120
    },
    "id": "i9HWy6aFixEw"
   },
   "outputs": [],
   "source": [
    "model.add(tf.keras.layers.Conv2D(filters=64,\n",
    "                                 kernel_size=3,\n",
    "                                 padding=\"same\", \n",
    "                                 activation=\"relu\",\n",
    "                                 kernel_initializer='glorot_uniform'\n",
    "                                ))\n",
    "model.add(tf.keras.layers.Conv2D(filters=64, \n",
    "                                 kernel_size=3, \n",
    "                                 padding=\"same\", \n",
    "                                 activation=\"relu\"))\n",
    "model.add(tf.keras.layers.MaxPool2D(pool_size=2, \n",
    "                                    strides=2, \n",
    "                                    padding='valid'))"
   ]
  },
  {
   "cell_type": "markdown",
   "metadata": {
    "colab_type": "text",
    "id": "O55kyOQGi44V"
   },
   "source": [
    "###  Añadir la cuarta capa convolucional y la capa de max-pooling\n",
    "\n",
    "Hyper parámetros de la capa de la RNC:\n",
    "- Filtros: 64\n",
    "- Tamaño del kernel: 3\n",
    "- padding: same\n",
    "- Función de Activación: relu\n",
    "\n",
    "Hyper parámetros de la capa de la MaxPool:\n",
    "- pool_size: 2\n",
    "- strides: 2\n",
    "- padding: valid\n"
   ]
  },
  {
   "cell_type": "code",
   "execution_count": 17,
   "metadata": {},
   "outputs": [],
   "source": [
    "model.add(tf.keras.layers.Conv2D(filters=64,\n",
    "                                 kernel_size=3, \n",
    "                                 padding=\"same\", \n",
    "                                 activation=\"relu\"))\n",
    "model.add(tf.keras.layers.MaxPool2D(pool_size=2, \n",
    "                                    strides=2, \n",
    "                                    padding='valid'))"
   ]
  },
  {
   "cell_type": "markdown",
   "metadata": {
    "colab_type": "text",
    "id": "-hGnR3aXjKbZ"
   },
   "source": [
    "### Añadir la capa de flattening"
   ]
  },
  {
   "cell_type": "code",
   "execution_count": 19,
   "metadata": {
    "colab": {},
    "colab_type": "code",
    "executionInfo": {
     "elapsed": 609,
     "status": "ok",
     "timestamp": 1599237287827,
     "user": {
      "displayName": "Juan Gabriel Gomila Salas",
      "photoUrl": "https://lh3.googleusercontent.com/a-/AOh14GjdBM44CAiZlDiF-IkE0NJQH-LHKt1b0A22wmma_w=s64",
      "userId": "03106941341701838274"
     },
     "user_tz": -120
    },
    "id": "QLzu2cCVjI5Z"
   },
   "outputs": [],
   "source": [
    "model.add(tf.keras.layers.Flatten())"
   ]
  },
  {
   "cell_type": "markdown",
   "metadata": {
    "colab_type": "text",
    "id": "GpeRUvVWjR1W"
   },
   "source": [
    "### Añadir la primera capa fully-connected\n",
    "\n",
    "Hyper parámetros de la capa totalmente conectada:\n",
    "- units/neurons: 256\n",
    "- activation: relu"
   ]
  },
  {
   "cell_type": "code",
   "execution_count": 20,
   "metadata": {
    "colab": {},
    "colab_type": "code",
    "executionInfo": {
     "elapsed": 667,
     "status": "ok",
     "timestamp": 1599237289775,
     "user": {
      "displayName": "Juan Gabriel Gomila Salas",
      "photoUrl": "https://lh3.googleusercontent.com/a-/AOh14GjdBM44CAiZlDiF-IkE0NJQH-LHKt1b0A22wmma_w=s64",
      "userId": "03106941341701838274"
     },
     "user_tz": -120
    },
    "id": "FWzYY8kKjhnZ"
   },
   "outputs": [],
   "source": [
    "model.add(tf.keras.layers.Dense(units=256, activation='relu'))\n",
    "#model.add(tf.keras.layers.Dropout(rate=0.2))"
   ]
  },
  {
   "cell_type": "markdown",
   "metadata": {
    "colab_type": "text",
    "id": "UaakKTqRjrkF"
   },
   "source": [
    "### Añadir la capa de salida\n",
    "\n",
    "Hyper parámetros de la capa totalmente conectada:\n",
    "\n",
    " - units/neurons: 10 (number of classes)\n",
    " - activation: softmax\n"
   ]
  },
  {
   "cell_type": "code",
   "execution_count": 21,
   "metadata": {
    "colab": {},
    "colab_type": "code",
    "executionInfo": {
     "elapsed": 736,
     "status": "ok",
     "timestamp": 1599237291532,
     "user": {
      "displayName": "Juan Gabriel Gomila Salas",
      "photoUrl": "https://lh3.googleusercontent.com/a-/AOh14GjdBM44CAiZlDiF-IkE0NJQH-LHKt1b0A22wmma_w=s64",
      "userId": "03106941341701838274"
     },
     "user_tz": -120
    },
    "id": "4t-JmzRvjnBj"
   },
   "outputs": [],
   "source": [
    "model.add(tf.keras.layers.Dense(units=10, activation='softmax'))"
   ]
  },
  {
   "cell_type": "code",
   "execution_count": 22,
   "metadata": {
    "colab": {
     "base_uri": "https://localhost:8080/",
     "height": 475
    },
    "colab_type": "code",
    "executionInfo": {
     "elapsed": 673,
     "status": "ok",
     "timestamp": 1599237292879,
     "user": {
      "displayName": "Juan Gabriel Gomila Salas",
      "photoUrl": "https://lh3.googleusercontent.com/a-/AOh14GjdBM44CAiZlDiF-IkE0NJQH-LHKt1b0A22wmma_w=s64",
      "userId": "03106941341701838274"
     },
     "user_tz": -120
    },
    "id": "aRr3bCU-ti06",
    "outputId": "9c1ee1c5-3c4b-4702-f7de-323c56787648"
   },
   "outputs": [
    {
     "name": "stdout",
     "output_type": "stream",
     "text": [
      "Model: \"sequential\"\n",
      "_________________________________________________________________\n",
      "Layer (type)                 Output Shape              Param #   \n",
      "=================================================================\n",
      "conv2d (Conv2D)              (None, 32, 32, 128)       3584      \n",
      "_________________________________________________________________\n",
      "conv2d_1 (Conv2D)            (None, 32, 32, 64)        131136    \n",
      "_________________________________________________________________\n",
      "max_pooling2d (MaxPooling2D) (None, 16, 16, 64)        0         \n",
      "_________________________________________________________________\n",
      "conv2d_2 (Conv2D)            (None, 16, 16, 64)        36928     \n",
      "_________________________________________________________________\n",
      "conv2d_3 (Conv2D)            (None, 16, 16, 64)        36928     \n",
      "_________________________________________________________________\n",
      "max_pooling2d_1 (MaxPooling2 (None, 8, 8, 64)          0         \n",
      "_________________________________________________________________\n",
      "conv2d_4 (Conv2D)            (None, 8, 8, 64)          36928     \n",
      "_________________________________________________________________\n",
      "max_pooling2d_2 (MaxPooling2 (None, 4, 4, 64)          0         \n",
      "_________________________________________________________________\n",
      "flatten (Flatten)            (None, 1024)              0         \n",
      "_________________________________________________________________\n",
      "dense (Dense)                (None, 256)               262400    \n",
      "_________________________________________________________________\n",
      "dense_1 (Dense)              (None, 10)                2570      \n",
      "=================================================================\n",
      "Total params: 510,474\n",
      "Trainable params: 510,474\n",
      "Non-trainable params: 0\n",
      "_________________________________________________________________\n"
     ]
    }
   ],
   "source": [
    "model.summary()"
   ]
  },
  {
   "cell_type": "markdown",
   "metadata": {
    "colab_type": "text",
    "id": "DYgvbNihtprw"
   },
   "source": [
    "### Compilar el modelo\n",
    "\n",
    "#### sparse_categorical_accuracy\n",
    "sparse_categorical_accuracy comprueba si el valor verdadero maximal coincide con el índice maximal del valor de la predicción.\n",
    "\n",
    "https://stackoverflow.com/questions/44477489/keras-difference-between-categorical-accuracy-and-sparse-categorical-accuracy "
   ]
  },
  {
   "cell_type": "code",
   "execution_count": 23,
   "metadata": {
    "colab": {},
    "colab_type": "code",
    "executionInfo": {
     "elapsed": 684,
     "status": "ok",
     "timestamp": 1599237296070,
     "user": {
      "displayName": "Juan Gabriel Gomila Salas",
      "photoUrl": "https://lh3.googleusercontent.com/a-/AOh14GjdBM44CAiZlDiF-IkE0NJQH-LHKt1b0A22wmma_w=s64",
      "userId": "03106941341701838274"
     },
     "user_tz": -120
    },
    "id": "oYHELxz4tsa-"
   },
   "outputs": [],
   "source": [
    "model.compile(loss=\"sparse_categorical_crossentropy\", \n",
    "              optimizer=\"Adam\", \n",
    "              metrics=[\"sparse_categorical_accuracy\"])"
   ]
  },
  {
   "cell_type": "markdown",
   "metadata": {
    "colab_type": "text",
    "id": "Gox3SmwUtwgX"
   },
   "source": [
    "### Entrenar el modelo"
   ]
  },
  {
   "cell_type": "code",
   "execution_count": 24,
   "metadata": {},
   "outputs": [
    {
     "data": {
      "text/plain": [
       "(50000, 32, 32, 3)"
      ]
     },
     "execution_count": 24,
     "metadata": {},
     "output_type": "execute_result"
    }
   ],
   "source": [
    "X_train.shape"
   ]
  },
  {
   "cell_type": "code",
   "execution_count": 25,
   "metadata": {
    "colab": {
     "base_uri": "https://localhost:8080/",
     "height": 211
    },
    "colab_type": "code",
    "executionInfo": {
     "elapsed": 35952,
     "status": "ok",
     "timestamp": 1599237333716,
     "user": {
      "displayName": "Juan Gabriel Gomila Salas",
      "photoUrl": "https://lh3.googleusercontent.com/a-/AOh14GjdBM44CAiZlDiF-IkE0NJQH-LHKt1b0A22wmma_w=s64",
      "userId": "03106941341701838274"
     },
     "user_tz": -120
    },
    "id": "D3MHvRYKe9fN",
    "outputId": "992911ee-62d1-48f6-9189-f25027a5977e",
    "scrolled": true
   },
   "outputs": [
    {
     "name": "stderr",
     "output_type": "stream",
     "text": [
      "2022-03-05 20:30:42.979980: I tensorflow/compiler/mlir/mlir_graph_optimization_pass.cc:176] None of the MLIR Optimization Passes are enabled (registered 2)\n",
      "2022-03-05 20:30:42.997302: I tensorflow/core/platform/profile_utils/cpu_utils.cc:114] CPU Frequency: 3800095000 Hz\n"
     ]
    },
    {
     "name": "stdout",
     "output_type": "stream",
     "text": [
      "Epoch 1/500\n"
     ]
    },
    {
     "name": "stderr",
     "output_type": "stream",
     "text": [
      "2022-03-05 20:30:43.307130: I tensorflow/stream_executor/platform/default/dso_loader.cc:53] Successfully opened dynamic library libcudnn.so.8\n",
      "2022-03-05 20:30:43.880858: I tensorflow/stream_executor/cuda/cuda_dnn.cc:359] Loaded cuDNN version 8204\n",
      "2022-03-05 20:30:44.733221: I tensorflow/stream_executor/platform/default/dso_loader.cc:53] Successfully opened dynamic library libcublas.so.11\n",
      "2022-03-05 20:30:45.234296: I tensorflow/stream_executor/platform/default/dso_loader.cc:53] Successfully opened dynamic library libcublasLt.so.11\n",
      "2022-03-05 20:30:45.377880: I tensorflow/stream_executor/cuda/cuda_blas.cc:1838] TensorFloat-32 will be used for the matrix multiplication. This will only be logged once.\n"
     ]
    },
    {
     "name": "stdout",
     "output_type": "stream",
     "text": [
      "500/500 [==============================] - 9s 12ms/step - loss: 1.5303 - sparse_categorical_accuracy: 0.4445\n",
      "Epoch 2/500\n",
      "500/500 [==============================] - 6s 12ms/step - loss: 1.0436 - sparse_categorical_accuracy: 0.6306\n",
      "Epoch 3/500\n",
      "500/500 [==============================] - 6s 12ms/step - loss: 0.8248 - sparse_categorical_accuracy: 0.7117\n",
      "Epoch 4/500\n",
      "500/500 [==============================] - 6s 12ms/step - loss: 0.6853 - sparse_categorical_accuracy: 0.7599\n",
      "Epoch 5/500\n",
      "500/500 [==============================] - 6s 12ms/step - loss: 0.5913 - sparse_categorical_accuracy: 0.7949\n",
      "Epoch 6/500\n",
      "500/500 [==============================] - 6s 12ms/step - loss: 0.5062 - sparse_categorical_accuracy: 0.8235\n",
      "Epoch 7/500\n",
      "500/500 [==============================] - 6s 12ms/step - loss: 0.4313 - sparse_categorical_accuracy: 0.8494\n",
      "Epoch 8/500\n",
      "500/500 [==============================] - 6s 12ms/step - loss: 0.3590 - sparse_categorical_accuracy: 0.8735\n",
      "Epoch 9/500\n",
      "500/500 [==============================] - 6s 12ms/step - loss: 0.2990 - sparse_categorical_accuracy: 0.8954\n",
      "Epoch 10/500\n",
      "500/500 [==============================] - 6s 12ms/step - loss: 0.2382 - sparse_categorical_accuracy: 0.9152\n",
      "Epoch 11/500\n",
      "500/500 [==============================] - 6s 12ms/step - loss: 0.2018 - sparse_categorical_accuracy: 0.9282\n",
      "Epoch 12/500\n",
      "500/500 [==============================] - 6s 13ms/step - loss: 0.1695 - sparse_categorical_accuracy: 0.9401\n",
      "Epoch 13/500\n",
      "500/500 [==============================] - 6s 13ms/step - loss: 0.1487 - sparse_categorical_accuracy: 0.9464\n",
      "Epoch 14/500\n",
      "500/500 [==============================] - 6s 12ms/step - loss: 0.1330 - sparse_categorical_accuracy: 0.9535\n",
      "Epoch 15/500\n",
      "500/500 [==============================] - 6s 12ms/step - loss: 0.1188 - sparse_categorical_accuracy: 0.9583\n",
      "Epoch 16/500\n",
      "500/500 [==============================] - 6s 12ms/step - loss: 0.1004 - sparse_categorical_accuracy: 0.9651\n",
      "Epoch 17/500\n",
      "500/500 [==============================] - 6s 12ms/step - loss: 0.1063 - sparse_categorical_accuracy: 0.9623\n",
      "Epoch 18/500\n",
      "500/500 [==============================] - 6s 12ms/step - loss: 0.0944 - sparse_categorical_accuracy: 0.9673\n",
      "Epoch 19/500\n",
      "500/500 [==============================] - 6s 12ms/step - loss: 0.0955 - sparse_categorical_accuracy: 0.9681\n",
      "Epoch 20/500\n",
      "500/500 [==============================] - 6s 12ms/step - loss: 0.0832 - sparse_categorical_accuracy: 0.9713\n",
      "Epoch 21/500\n",
      "500/500 [==============================] - 6s 12ms/step - loss: 0.0792 - sparse_categorical_accuracy: 0.9729\n",
      "Epoch 22/500\n",
      "500/500 [==============================] - 6s 12ms/step - loss: 0.0859 - sparse_categorical_accuracy: 0.9705\n",
      "Epoch 23/500\n",
      "500/500 [==============================] - 6s 12ms/step - loss: 0.0784 - sparse_categorical_accuracy: 0.9743\n",
      "Epoch 24/500\n",
      "500/500 [==============================] - 6s 12ms/step - loss: 0.0679 - sparse_categorical_accuracy: 0.9767\n",
      "Epoch 25/500\n",
      "500/500 [==============================] - 6s 12ms/step - loss: 0.0769 - sparse_categorical_accuracy: 0.9735\n",
      "Epoch 26/500\n",
      "500/500 [==============================] - 6s 12ms/step - loss: 0.0749 - sparse_categorical_accuracy: 0.9739\n",
      "Epoch 27/500\n",
      "500/500 [==============================] - 6s 12ms/step - loss: 0.0650 - sparse_categorical_accuracy: 0.9780\n",
      "Epoch 28/500\n",
      "500/500 [==============================] - 6s 12ms/step - loss: 0.0644 - sparse_categorical_accuracy: 0.9785\n",
      "Epoch 29/500\n",
      "500/500 [==============================] - 6s 12ms/step - loss: 0.0715 - sparse_categorical_accuracy: 0.9762\n",
      "Epoch 30/500\n",
      "500/500 [==============================] - 6s 12ms/step - loss: 0.0673 - sparse_categorical_accuracy: 0.9782\n",
      "Epoch 31/500\n",
      "500/500 [==============================] - 6s 12ms/step - loss: 0.0681 - sparse_categorical_accuracy: 0.9773\n",
      "Epoch 32/500\n",
      "500/500 [==============================] - 6s 12ms/step - loss: 0.0670 - sparse_categorical_accuracy: 0.9778\n",
      "Epoch 33/500\n",
      "500/500 [==============================] - 6s 12ms/step - loss: 0.0590 - sparse_categorical_accuracy: 0.9805\n",
      "Epoch 34/500\n",
      "500/500 [==============================] - 6s 12ms/step - loss: 0.0614 - sparse_categorical_accuracy: 0.9789\n",
      "Epoch 35/500\n",
      "500/500 [==============================] - 6s 12ms/step - loss: 0.0581 - sparse_categorical_accuracy: 0.9810\n",
      "Epoch 36/500\n",
      "500/500 [==============================] - 6s 12ms/step - loss: 0.0607 - sparse_categorical_accuracy: 0.9800\n",
      "Epoch 37/500\n",
      "500/500 [==============================] - 6s 12ms/step - loss: 0.0602 - sparse_categorical_accuracy: 0.9802\n",
      "Epoch 38/500\n",
      "500/500 [==============================] - 6s 12ms/step - loss: 0.0559 - sparse_categorical_accuracy: 0.9814\n",
      "Epoch 39/500\n",
      "500/500 [==============================] - 6s 12ms/step - loss: 0.0543 - sparse_categorical_accuracy: 0.9825\n",
      "Epoch 40/500\n",
      "500/500 [==============================] - 6s 12ms/step - loss: 0.0623 - sparse_categorical_accuracy: 0.9799\n",
      "Epoch 41/500\n",
      "500/500 [==============================] - 6s 12ms/step - loss: 0.0551 - sparse_categorical_accuracy: 0.9824\n",
      "Epoch 42/500\n",
      "500/500 [==============================] - 6s 12ms/step - loss: 0.0580 - sparse_categorical_accuracy: 0.9817\n",
      "Epoch 43/500\n",
      "500/500 [==============================] - 6s 12ms/step - loss: 0.0518 - sparse_categorical_accuracy: 0.9832\n",
      "Epoch 44/500\n",
      "500/500 [==============================] - 6s 12ms/step - loss: 0.0562 - sparse_categorical_accuracy: 0.9821\n",
      "Epoch 45/500\n",
      "500/500 [==============================] - 6s 12ms/step - loss: 0.0499 - sparse_categorical_accuracy: 0.9834\n",
      "Epoch 46/500\n",
      "500/500 [==============================] - 6s 12ms/step - loss: 0.0558 - sparse_categorical_accuracy: 0.9818\n",
      "Epoch 47/500\n",
      "500/500 [==============================] - 6s 12ms/step - loss: 0.0489 - sparse_categorical_accuracy: 0.9839\n",
      "Epoch 48/500\n",
      "500/500 [==============================] - 6s 12ms/step - loss: 0.0544 - sparse_categorical_accuracy: 0.9828\n",
      "Epoch 49/500\n",
      "500/500 [==============================] - 6s 12ms/step - loss: 0.0487 - sparse_categorical_accuracy: 0.9845\n",
      "Epoch 50/500\n",
      "500/500 [==============================] - 6s 12ms/step - loss: 0.0538 - sparse_categorical_accuracy: 0.9828\n",
      "Epoch 51/500\n",
      "500/500 [==============================] - 6s 12ms/step - loss: 0.0530 - sparse_categorical_accuracy: 0.9829\n",
      "Epoch 52/500\n",
      "500/500 [==============================] - 6s 12ms/step - loss: 0.0522 - sparse_categorical_accuracy: 0.9830\n",
      "Epoch 53/500\n",
      "500/500 [==============================] - 6s 12ms/step - loss: 0.0417 - sparse_categorical_accuracy: 0.9866\n",
      "Epoch 54/500\n",
      "500/500 [==============================] - 6s 12ms/step - loss: 0.0442 - sparse_categorical_accuracy: 0.9860\n",
      "Epoch 55/500\n",
      "500/500 [==============================] - 6s 12ms/step - loss: 0.0581 - sparse_categorical_accuracy: 0.9817\n",
      "Epoch 56/500\n",
      "500/500 [==============================] - 6s 12ms/step - loss: 0.0425 - sparse_categorical_accuracy: 0.9865\n",
      "Epoch 57/500\n",
      "500/500 [==============================] - 6s 12ms/step - loss: 0.0506 - sparse_categorical_accuracy: 0.9842\n",
      "Epoch 58/500\n",
      "500/500 [==============================] - 6s 12ms/step - loss: 0.0436 - sparse_categorical_accuracy: 0.9864\n",
      "Epoch 59/500\n",
      "500/500 [==============================] - 6s 12ms/step - loss: 0.0474 - sparse_categorical_accuracy: 0.9844\n",
      "Epoch 60/500\n",
      "500/500 [==============================] - 6s 12ms/step - loss: 0.0425 - sparse_categorical_accuracy: 0.9869\n",
      "Epoch 61/500\n",
      "500/500 [==============================] - 6s 12ms/step - loss: 0.0522 - sparse_categorical_accuracy: 0.9840\n",
      "Epoch 62/500\n",
      "500/500 [==============================] - 6s 12ms/step - loss: 0.0558 - sparse_categorical_accuracy: 0.9838\n",
      "Epoch 63/500\n",
      "500/500 [==============================] - 6s 12ms/step - loss: 0.0476 - sparse_categorical_accuracy: 0.9850\n",
      "Epoch 64/500\n",
      "500/500 [==============================] - 6s 12ms/step - loss: 0.0444 - sparse_categorical_accuracy: 0.9869\n",
      "Epoch 65/500\n",
      "500/500 [==============================] - 6s 12ms/step - loss: 0.0469 - sparse_categorical_accuracy: 0.9856\n",
      "Epoch 66/500\n",
      "500/500 [==============================] - 6s 12ms/step - loss: 0.0452 - sparse_categorical_accuracy: 0.9858\n",
      "Epoch 67/500\n",
      "500/500 [==============================] - 6s 12ms/step - loss: 0.0522 - sparse_categorical_accuracy: 0.9847\n",
      "Epoch 68/500\n",
      "500/500 [==============================] - 6s 12ms/step - loss: 0.0426 - sparse_categorical_accuracy: 0.9869\n",
      "Epoch 69/500\n",
      "500/500 [==============================] - 6s 12ms/step - loss: 0.0479 - sparse_categorical_accuracy: 0.9857\n",
      "Epoch 70/500\n",
      "500/500 [==============================] - 6s 12ms/step - loss: 0.0389 - sparse_categorical_accuracy: 0.9883\n",
      "Epoch 71/500\n",
      "500/500 [==============================] - 6s 12ms/step - loss: 0.0438 - sparse_categorical_accuracy: 0.9873\n",
      "Epoch 72/500\n",
      "500/500 [==============================] - 6s 12ms/step - loss: 0.0485 - sparse_categorical_accuracy: 0.9856\n",
      "Epoch 73/500\n",
      "500/500 [==============================] - 6s 12ms/step - loss: 0.0513 - sparse_categorical_accuracy: 0.9841\n",
      "Epoch 74/500\n",
      "500/500 [==============================] - 6s 12ms/step - loss: 0.0532 - sparse_categorical_accuracy: 0.9844\n",
      "Epoch 75/500\n",
      "500/500 [==============================] - 6s 12ms/step - loss: 0.0377 - sparse_categorical_accuracy: 0.9886\n",
      "Epoch 76/500\n",
      "500/500 [==============================] - 6s 12ms/step - loss: 0.0523 - sparse_categorical_accuracy: 0.9856\n",
      "Epoch 77/500\n",
      "500/500 [==============================] - 6s 12ms/step - loss: 0.0377 - sparse_categorical_accuracy: 0.9888\n",
      "Epoch 78/500\n",
      "500/500 [==============================] - 6s 12ms/step - loss: 0.0399 - sparse_categorical_accuracy: 0.9879\n",
      "Epoch 79/500\n",
      "500/500 [==============================] - 6s 12ms/step - loss: 0.0442 - sparse_categorical_accuracy: 0.9873\n",
      "Epoch 80/500\n",
      "500/500 [==============================] - 6s 12ms/step - loss: 0.0460 - sparse_categorical_accuracy: 0.9863\n",
      "Epoch 81/500\n",
      "500/500 [==============================] - 6s 12ms/step - loss: 0.0403 - sparse_categorical_accuracy: 0.9882\n",
      "Epoch 82/500\n",
      "500/500 [==============================] - 6s 12ms/step - loss: 0.0398 - sparse_categorical_accuracy: 0.9885\n",
      "Epoch 83/500\n",
      "500/500 [==============================] - 6s 12ms/step - loss: 0.0468 - sparse_categorical_accuracy: 0.9863\n",
      "Epoch 84/500\n",
      "500/500 [==============================] - 6s 12ms/step - loss: 0.0460 - sparse_categorical_accuracy: 0.9864\n",
      "Epoch 85/500\n",
      "500/500 [==============================] - 6s 12ms/step - loss: 0.0426 - sparse_categorical_accuracy: 0.9880\n",
      "Epoch 86/500\n",
      "500/500 [==============================] - 6s 12ms/step - loss: 0.0451 - sparse_categorical_accuracy: 0.9874\n",
      "Epoch 87/500\n",
      "500/500 [==============================] - 6s 12ms/step - loss: 0.0368 - sparse_categorical_accuracy: 0.9893\n",
      "Epoch 88/500\n",
      "500/500 [==============================] - 6s 12ms/step - loss: 0.0419 - sparse_categorical_accuracy: 0.9887\n",
      "Epoch 89/500\n",
      "500/500 [==============================] - 6s 12ms/step - loss: 0.0397 - sparse_categorical_accuracy: 0.9887\n",
      "Epoch 90/500\n",
      "500/500 [==============================] - 6s 12ms/step - loss: 0.0366 - sparse_categorical_accuracy: 0.9896\n",
      "Epoch 91/500\n",
      "500/500 [==============================] - 6s 12ms/step - loss: 0.0533 - sparse_categorical_accuracy: 0.9852\n",
      "Epoch 92/500\n",
      "500/500 [==============================] - 6s 12ms/step - loss: 0.0487 - sparse_categorical_accuracy: 0.9871\n",
      "Epoch 93/500\n",
      "500/500 [==============================] - 6s 12ms/step - loss: 0.0438 - sparse_categorical_accuracy: 0.9881\n",
      "Epoch 94/500\n",
      "500/500 [==============================] - 6s 12ms/step - loss: 0.0444 - sparse_categorical_accuracy: 0.9866\n",
      "Epoch 95/500\n",
      "500/500 [==============================] - 6s 12ms/step - loss: 0.0412 - sparse_categorical_accuracy: 0.9882\n",
      "Epoch 96/500\n",
      "500/500 [==============================] - 6s 12ms/step - loss: 0.0316 - sparse_categorical_accuracy: 0.9912\n",
      "Epoch 97/500\n",
      "500/500 [==============================] - 6s 12ms/step - loss: 0.0434 - sparse_categorical_accuracy: 0.9882\n",
      "Epoch 98/500\n",
      "500/500 [==============================] - 6s 12ms/step - loss: 0.0446 - sparse_categorical_accuracy: 0.9872\n",
      "Epoch 99/500\n",
      "500/500 [==============================] - 6s 12ms/step - loss: 0.0421 - sparse_categorical_accuracy: 0.9880\n",
      "Epoch 100/500\n",
      "500/500 [==============================] - 6s 12ms/step - loss: 0.0491 - sparse_categorical_accuracy: 0.9868\n",
      "Epoch 101/500\n",
      "500/500 [==============================] - 6s 12ms/step - loss: 0.0409 - sparse_categorical_accuracy: 0.9884\n",
      "Epoch 102/500\n",
      "500/500 [==============================] - 6s 12ms/step - loss: 0.0437 - sparse_categorical_accuracy: 0.9883\n",
      "Epoch 103/500\n",
      "500/500 [==============================] - 6s 12ms/step - loss: 0.0317 - sparse_categorical_accuracy: 0.9906\n",
      "Epoch 104/500\n",
      "500/500 [==============================] - 6s 12ms/step - loss: 0.0389 - sparse_categorical_accuracy: 0.9894\n",
      "Epoch 105/500\n",
      "500/500 [==============================] - 6s 12ms/step - loss: 0.0406 - sparse_categorical_accuracy: 0.9883\n",
      "Epoch 106/500\n",
      "500/500 [==============================] - 6s 12ms/step - loss: 0.0410 - sparse_categorical_accuracy: 0.9892\n",
      "Epoch 107/500\n",
      "500/500 [==============================] - 6s 12ms/step - loss: 0.0494 - sparse_categorical_accuracy: 0.9872\n",
      "Epoch 108/500\n",
      "500/500 [==============================] - 6s 12ms/step - loss: 0.0382 - sparse_categorical_accuracy: 0.9891\n",
      "Epoch 109/500\n",
      "500/500 [==============================] - 6s 12ms/step - loss: 0.0400 - sparse_categorical_accuracy: 0.9895\n",
      "Epoch 110/500\n",
      "500/500 [==============================] - 6s 12ms/step - loss: 0.0440 - sparse_categorical_accuracy: 0.9887\n",
      "Epoch 111/500\n",
      "500/500 [==============================] - 6s 12ms/step - loss: 0.0422 - sparse_categorical_accuracy: 0.9887\n",
      "Epoch 112/500\n",
      "500/500 [==============================] - 6s 12ms/step - loss: 0.0318 - sparse_categorical_accuracy: 0.9908\n",
      "Epoch 113/500\n",
      "500/500 [==============================] - 6s 12ms/step - loss: 0.0404 - sparse_categorical_accuracy: 0.9890\n",
      "Epoch 114/500\n",
      "500/500 [==============================] - 6s 12ms/step - loss: 0.0516 - sparse_categorical_accuracy: 0.9868\n",
      "Epoch 115/500\n",
      "500/500 [==============================] - 6s 12ms/step - loss: 0.0377 - sparse_categorical_accuracy: 0.9897\n",
      "Epoch 116/500\n",
      "500/500 [==============================] - 6s 12ms/step - loss: 0.0351 - sparse_categorical_accuracy: 0.9900\n",
      "Epoch 117/500\n",
      "500/500 [==============================] - 6s 12ms/step - loss: 0.0408 - sparse_categorical_accuracy: 0.9891\n",
      "Epoch 118/500\n",
      "500/500 [==============================] - 6s 12ms/step - loss: 0.0513 - sparse_categorical_accuracy: 0.9868\n",
      "Epoch 119/500\n",
      "500/500 [==============================] - 6s 12ms/step - loss: 0.0305 - sparse_categorical_accuracy: 0.9915\n",
      "Epoch 120/500\n",
      "500/500 [==============================] - 6s 12ms/step - loss: 0.0503 - sparse_categorical_accuracy: 0.9875\n",
      "Epoch 121/500\n",
      "500/500 [==============================] - 6s 12ms/step - loss: 0.0430 - sparse_categorical_accuracy: 0.9885\n",
      "Epoch 122/500\n",
      "500/500 [==============================] - 6s 12ms/step - loss: 0.0421 - sparse_categorical_accuracy: 0.9892\n",
      "Epoch 123/500\n",
      "500/500 [==============================] - 6s 12ms/step - loss: 0.0484 - sparse_categorical_accuracy: 0.9879\n",
      "Epoch 124/500\n",
      "500/500 [==============================] - 6s 12ms/step - loss: 0.0363 - sparse_categorical_accuracy: 0.9909\n",
      "Epoch 125/500\n",
      "500/500 [==============================] - 6s 12ms/step - loss: 0.0408 - sparse_categorical_accuracy: 0.9897\n",
      "Epoch 126/500\n",
      "500/500 [==============================] - 6s 12ms/step - loss: 0.0295 - sparse_categorical_accuracy: 0.9920\n",
      "Epoch 127/500\n",
      "500/500 [==============================] - 6s 12ms/step - loss: 0.0442 - sparse_categorical_accuracy: 0.9886\n",
      "Epoch 128/500\n",
      "500/500 [==============================] - 6s 12ms/step - loss: 0.0310 - sparse_categorical_accuracy: 0.9915\n",
      "Epoch 129/500\n",
      "500/500 [==============================] - 6s 12ms/step - loss: 0.0447 - sparse_categorical_accuracy: 0.9893\n",
      "Epoch 130/500\n",
      "500/500 [==============================] - 6s 12ms/step - loss: 0.0517 - sparse_categorical_accuracy: 0.9880\n",
      "Epoch 131/500\n",
      "500/500 [==============================] - 6s 12ms/step - loss: 0.0345 - sparse_categorical_accuracy: 0.9910\n",
      "Epoch 132/500\n",
      "500/500 [==============================] - 6s 12ms/step - loss: 0.0480 - sparse_categorical_accuracy: 0.9886\n",
      "Epoch 133/500\n",
      "500/500 [==============================] - 6s 12ms/step - loss: 0.0422 - sparse_categorical_accuracy: 0.9897\n",
      "Epoch 134/500\n",
      "500/500 [==============================] - 6s 12ms/step - loss: 0.0377 - sparse_categorical_accuracy: 0.9905\n",
      "Epoch 135/500\n",
      "500/500 [==============================] - 6s 12ms/step - loss: 0.0359 - sparse_categorical_accuracy: 0.9906\n",
      "Epoch 136/500\n",
      "500/500 [==============================] - 6s 12ms/step - loss: 0.0478 - sparse_categorical_accuracy: 0.9887\n",
      "Epoch 137/500\n",
      "500/500 [==============================] - 6s 12ms/step - loss: 0.0438 - sparse_categorical_accuracy: 0.9886\n",
      "Epoch 138/500\n",
      "500/500 [==============================] - 6s 12ms/step - loss: 0.0328 - sparse_categorical_accuracy: 0.9918\n",
      "Epoch 139/500\n",
      "500/500 [==============================] - 6s 12ms/step - loss: 0.0454 - sparse_categorical_accuracy: 0.9886\n",
      "Epoch 140/500\n",
      "500/500 [==============================] - 6s 12ms/step - loss: 0.0410 - sparse_categorical_accuracy: 0.9899\n",
      "Epoch 141/500\n",
      "500/500 [==============================] - 6s 12ms/step - loss: 0.0512 - sparse_categorical_accuracy: 0.9875\n",
      "Epoch 142/500\n",
      "500/500 [==============================] - 6s 12ms/step - loss: 0.0435 - sparse_categorical_accuracy: 0.9894\n",
      "Epoch 143/500\n",
      "500/500 [==============================] - 6s 12ms/step - loss: 0.0390 - sparse_categorical_accuracy: 0.9902\n",
      "Epoch 144/500\n",
      "500/500 [==============================] - 6s 12ms/step - loss: 0.0472 - sparse_categorical_accuracy: 0.9888\n",
      "Epoch 145/500\n",
      "500/500 [==============================] - 6s 12ms/step - loss: 0.0344 - sparse_categorical_accuracy: 0.9909\n",
      "Epoch 146/500\n",
      "500/500 [==============================] - 6s 12ms/step - loss: 0.0448 - sparse_categorical_accuracy: 0.9898\n",
      "Epoch 147/500\n",
      "500/500 [==============================] - 6s 12ms/step - loss: 0.0346 - sparse_categorical_accuracy: 0.9917\n",
      "Epoch 148/500\n",
      "500/500 [==============================] - 6s 12ms/step - loss: 0.0332 - sparse_categorical_accuracy: 0.9918\n",
      "Epoch 149/500\n",
      "500/500 [==============================] - 6s 12ms/step - loss: 0.0504 - sparse_categorical_accuracy: 0.9880\n",
      "Epoch 150/500\n",
      "500/500 [==============================] - 6s 12ms/step - loss: 0.0371 - sparse_categorical_accuracy: 0.9913\n",
      "Epoch 151/500\n",
      "500/500 [==============================] - 6s 12ms/step - loss: 0.0414 - sparse_categorical_accuracy: 0.9902\n",
      "Epoch 152/500\n",
      "500/500 [==============================] - 6s 12ms/step - loss: 0.0490 - sparse_categorical_accuracy: 0.9888\n",
      "Epoch 153/500\n",
      "500/500 [==============================] - 6s 12ms/step - loss: 0.0378 - sparse_categorical_accuracy: 0.9907\n",
      "Epoch 154/500\n",
      "500/500 [==============================] - 6s 12ms/step - loss: 0.0340 - sparse_categorical_accuracy: 0.9919\n",
      "Epoch 155/500\n",
      "500/500 [==============================] - 6s 12ms/step - loss: 0.0357 - sparse_categorical_accuracy: 0.9917\n",
      "Epoch 156/500\n",
      "500/500 [==============================] - 6s 12ms/step - loss: 0.0418 - sparse_categorical_accuracy: 0.9900\n",
      "Epoch 157/500\n",
      "500/500 [==============================] - 6s 12ms/step - loss: 0.0522 - sparse_categorical_accuracy: 0.9885\n",
      "Epoch 158/500\n",
      "500/500 [==============================] - 6s 12ms/step - loss: 0.0360 - sparse_categorical_accuracy: 0.9914\n",
      "Epoch 159/500\n",
      "500/500 [==============================] - 6s 12ms/step - loss: 0.0575 - sparse_categorical_accuracy: 0.9871\n",
      "Epoch 160/500\n",
      "500/500 [==============================] - 6s 12ms/step - loss: 0.0418 - sparse_categorical_accuracy: 0.9903\n",
      "Epoch 161/500\n",
      "500/500 [==============================] - 6s 12ms/step - loss: 0.0380 - sparse_categorical_accuracy: 0.9909\n",
      "Epoch 162/500\n",
      "500/500 [==============================] - 6s 12ms/step - loss: 0.0348 - sparse_categorical_accuracy: 0.9911\n",
      "Epoch 163/500\n",
      "500/500 [==============================] - 6s 12ms/step - loss: 0.0384 - sparse_categorical_accuracy: 0.9905\n",
      "Epoch 164/500\n",
      "500/500 [==============================] - 6s 12ms/step - loss: 0.0452 - sparse_categorical_accuracy: 0.9902\n",
      "Epoch 165/500\n",
      "500/500 [==============================] - 6s 12ms/step - loss: 0.0364 - sparse_categorical_accuracy: 0.9912\n",
      "Epoch 166/500\n",
      "500/500 [==============================] - 6s 12ms/step - loss: 0.0608 - sparse_categorical_accuracy: 0.9866\n",
      "Epoch 167/500\n",
      "500/500 [==============================] - 6s 12ms/step - loss: 0.0328 - sparse_categorical_accuracy: 0.9919\n",
      "Epoch 168/500\n",
      "500/500 [==============================] - 6s 12ms/step - loss: 0.0439 - sparse_categorical_accuracy: 0.9903\n",
      "Epoch 169/500\n",
      "500/500 [==============================] - 6s 12ms/step - loss: 0.0398 - sparse_categorical_accuracy: 0.9914\n",
      "Epoch 170/500\n",
      "500/500 [==============================] - 6s 12ms/step - loss: 0.0395 - sparse_categorical_accuracy: 0.9904\n",
      "Epoch 171/500\n",
      "500/500 [==============================] - 6s 12ms/step - loss: 0.0356 - sparse_categorical_accuracy: 0.9915\n",
      "Epoch 172/500\n",
      "500/500 [==============================] - 6s 12ms/step - loss: 0.0387 - sparse_categorical_accuracy: 0.9905\n",
      "Epoch 173/500\n",
      "500/500 [==============================] - 6s 12ms/step - loss: 0.0557 - sparse_categorical_accuracy: 0.9880\n",
      "Epoch 174/500\n",
      "500/500 [==============================] - 6s 12ms/step - loss: 0.0399 - sparse_categorical_accuracy: 0.9918\n",
      "Epoch 175/500\n",
      "500/500 [==============================] - 6s 12ms/step - loss: 0.0462 - sparse_categorical_accuracy: 0.9893\n",
      "Epoch 176/500\n",
      "500/500 [==============================] - 6s 12ms/step - loss: 0.0425 - sparse_categorical_accuracy: 0.9904\n",
      "Epoch 177/500\n",
      "500/500 [==============================] - 6s 12ms/step - loss: 0.0331 - sparse_categorical_accuracy: 0.9918\n",
      "Epoch 178/500\n",
      "500/500 [==============================] - 6s 12ms/step - loss: 0.0306 - sparse_categorical_accuracy: 0.9926\n",
      "Epoch 179/500\n",
      "500/500 [==============================] - 6s 12ms/step - loss: 0.0586 - sparse_categorical_accuracy: 0.9877\n",
      "Epoch 180/500\n",
      "500/500 [==============================] - 6s 12ms/step - loss: 0.0475 - sparse_categorical_accuracy: 0.9898\n",
      "Epoch 181/500\n",
      "500/500 [==============================] - 6s 12ms/step - loss: 0.0477 - sparse_categorical_accuracy: 0.9898\n",
      "Epoch 182/500\n",
      "500/500 [==============================] - 6s 12ms/step - loss: 0.0383 - sparse_categorical_accuracy: 0.9917\n",
      "Epoch 183/500\n",
      "500/500 [==============================] - 6s 12ms/step - loss: 0.0392 - sparse_categorical_accuracy: 0.9915\n",
      "Epoch 184/500\n",
      "500/500 [==============================] - 6s 12ms/step - loss: 0.0513 - sparse_categorical_accuracy: 0.9901\n",
      "Epoch 185/500\n",
      "500/500 [==============================] - 6s 12ms/step - loss: 0.0445 - sparse_categorical_accuracy: 0.9904\n",
      "Epoch 186/500\n",
      "500/500 [==============================] - 6s 12ms/step - loss: 0.0412 - sparse_categorical_accuracy: 0.9908\n",
      "Epoch 187/500\n",
      "500/500 [==============================] - 6s 12ms/step - loss: 0.0432 - sparse_categorical_accuracy: 0.9902\n",
      "Epoch 188/500\n",
      "500/500 [==============================] - 6s 12ms/step - loss: 0.0371 - sparse_categorical_accuracy: 0.9920\n",
      "Epoch 189/500\n",
      "500/500 [==============================] - 6s 12ms/step - loss: 0.0390 - sparse_categorical_accuracy: 0.9915\n",
      "Epoch 190/500\n",
      "500/500 [==============================] - 6s 12ms/step - loss: 0.0526 - sparse_categorical_accuracy: 0.9891\n",
      "Epoch 191/500\n",
      "500/500 [==============================] - 6s 12ms/step - loss: 0.0358 - sparse_categorical_accuracy: 0.9924\n",
      "Epoch 192/500\n",
      "500/500 [==============================] - 6s 12ms/step - loss: 0.0381 - sparse_categorical_accuracy: 0.9924\n",
      "Epoch 193/500\n",
      "500/500 [==============================] - 6s 12ms/step - loss: 0.0446 - sparse_categorical_accuracy: 0.9900\n",
      "Epoch 194/500\n",
      "500/500 [==============================] - 6s 12ms/step - loss: 0.0399 - sparse_categorical_accuracy: 0.9917\n",
      "Epoch 195/500\n",
      "500/500 [==============================] - 6s 12ms/step - loss: 0.0443 - sparse_categorical_accuracy: 0.9908\n",
      "Epoch 196/500\n",
      "500/500 [==============================] - 6s 12ms/step - loss: 0.0442 - sparse_categorical_accuracy: 0.9908\n",
      "Epoch 197/500\n",
      "500/500 [==============================] - 6s 12ms/step - loss: 0.0339 - sparse_categorical_accuracy: 0.9924\n",
      "Epoch 198/500\n",
      "500/500 [==============================] - 6s 12ms/step - loss: 0.0734 - sparse_categorical_accuracy: 0.9863\n",
      "Epoch 199/500\n",
      "500/500 [==============================] - 6s 12ms/step - loss: 0.0414 - sparse_categorical_accuracy: 0.9909\n",
      "Epoch 200/500\n",
      "500/500 [==============================] - 6s 12ms/step - loss: 0.0336 - sparse_categorical_accuracy: 0.9934\n",
      "Epoch 201/500\n",
      "500/500 [==============================] - 6s 12ms/step - loss: 0.0408 - sparse_categorical_accuracy: 0.9919\n",
      "Epoch 202/500\n",
      "500/500 [==============================] - 6s 12ms/step - loss: 0.0425 - sparse_categorical_accuracy: 0.9912\n",
      "Epoch 203/500\n",
      "500/500 [==============================] - 6s 12ms/step - loss: 0.0514 - sparse_categorical_accuracy: 0.9894\n",
      "Epoch 204/500\n",
      "500/500 [==============================] - 6s 12ms/step - loss: 0.0321 - sparse_categorical_accuracy: 0.9933\n",
      "Epoch 205/500\n",
      "500/500 [==============================] - 6s 12ms/step - loss: 0.0595 - sparse_categorical_accuracy: 0.9884\n",
      "Epoch 206/500\n",
      "500/500 [==============================] - 6s 12ms/step - loss: 0.0437 - sparse_categorical_accuracy: 0.9905\n",
      "Epoch 207/500\n",
      "500/500 [==============================] - 6s 12ms/step - loss: 0.0358 - sparse_categorical_accuracy: 0.9924\n",
      "Epoch 208/500\n",
      "500/500 [==============================] - 6s 12ms/step - loss: 0.0451 - sparse_categorical_accuracy: 0.9910\n",
      "Epoch 209/500\n",
      "500/500 [==============================] - 6s 12ms/step - loss: 0.0470 - sparse_categorical_accuracy: 0.9909\n",
      "Epoch 210/500\n",
      "500/500 [==============================] - 6s 12ms/step - loss: 0.0451 - sparse_categorical_accuracy: 0.9908\n",
      "Epoch 211/500\n",
      "500/500 [==============================] - 6s 12ms/step - loss: 0.0406 - sparse_categorical_accuracy: 0.9923\n",
      "Epoch 212/500\n",
      "500/500 [==============================] - 6s 12ms/step - loss: 0.0434 - sparse_categorical_accuracy: 0.9912\n",
      "Epoch 213/500\n",
      "500/500 [==============================] - 6s 12ms/step - loss: 0.0523 - sparse_categorical_accuracy: 0.9907\n",
      "Epoch 214/500\n",
      "500/500 [==============================] - 6s 12ms/step - loss: 0.0503 - sparse_categorical_accuracy: 0.9902\n",
      "Epoch 215/500\n",
      "500/500 [==============================] - 6s 12ms/step - loss: 0.0462 - sparse_categorical_accuracy: 0.9911\n",
      "Epoch 216/500\n",
      "500/500 [==============================] - 6s 12ms/step - loss: 0.0419 - sparse_categorical_accuracy: 0.9921\n",
      "Epoch 217/500\n",
      "500/500 [==============================] - 6s 12ms/step - loss: 0.0468 - sparse_categorical_accuracy: 0.9907\n",
      "Epoch 218/500\n",
      "500/500 [==============================] - 6s 12ms/step - loss: 0.0395 - sparse_categorical_accuracy: 0.9917\n",
      "Epoch 219/500\n",
      "500/500 [==============================] - 6s 12ms/step - loss: 0.0425 - sparse_categorical_accuracy: 0.9917\n",
      "Epoch 220/500\n",
      "500/500 [==============================] - 6s 12ms/step - loss: 0.0416 - sparse_categorical_accuracy: 0.9921\n",
      "Epoch 221/500\n",
      "500/500 [==============================] - 6s 12ms/step - loss: 0.0392 - sparse_categorical_accuracy: 0.9920\n",
      "Epoch 222/500\n",
      "500/500 [==============================] - 6s 12ms/step - loss: 0.0480 - sparse_categorical_accuracy: 0.9906\n",
      "Epoch 223/500\n",
      "500/500 [==============================] - 6s 12ms/step - loss: 0.0437 - sparse_categorical_accuracy: 0.9912\n",
      "Epoch 224/500\n",
      "500/500 [==============================] - 6s 12ms/step - loss: 0.0559 - sparse_categorical_accuracy: 0.9891\n",
      "Epoch 225/500\n",
      "500/500 [==============================] - 6s 12ms/step - loss: 0.0339 - sparse_categorical_accuracy: 0.9929\n",
      "Epoch 226/500\n",
      "500/500 [==============================] - 6s 12ms/step - loss: 0.0387 - sparse_categorical_accuracy: 0.9924\n",
      "Epoch 227/500\n",
      "500/500 [==============================] - 6s 12ms/step - loss: 0.0548 - sparse_categorical_accuracy: 0.9895\n",
      "Epoch 228/500\n",
      "500/500 [==============================] - 6s 12ms/step - loss: 0.0388 - sparse_categorical_accuracy: 0.9925\n",
      "Epoch 229/500\n",
      "500/500 [==============================] - 6s 12ms/step - loss: 0.0378 - sparse_categorical_accuracy: 0.9927\n",
      "Epoch 230/500\n",
      "500/500 [==============================] - 6s 12ms/step - loss: 0.0455 - sparse_categorical_accuracy: 0.9909\n",
      "Epoch 231/500\n",
      "500/500 [==============================] - 6s 12ms/step - loss: 0.0444 - sparse_categorical_accuracy: 0.9914\n",
      "Epoch 232/500\n",
      "500/500 [==============================] - 6s 12ms/step - loss: 0.0430 - sparse_categorical_accuracy: 0.9911\n",
      "Epoch 233/500\n",
      "500/500 [==============================] - 6s 12ms/step - loss: 0.0395 - sparse_categorical_accuracy: 0.9925\n",
      "Epoch 234/500\n",
      "500/500 [==============================] - 6s 12ms/step - loss: 0.0489 - sparse_categorical_accuracy: 0.9914\n",
      "Epoch 235/500\n",
      "500/500 [==============================] - 6s 12ms/step - loss: 0.0473 - sparse_categorical_accuracy: 0.9912\n",
      "Epoch 236/500\n",
      "500/500 [==============================] - 6s 12ms/step - loss: 0.0484 - sparse_categorical_accuracy: 0.9907\n",
      "Epoch 237/500\n",
      "500/500 [==============================] - 6s 12ms/step - loss: 0.0415 - sparse_categorical_accuracy: 0.9921\n",
      "Epoch 238/500\n",
      "500/500 [==============================] - 6s 12ms/step - loss: 0.0435 - sparse_categorical_accuracy: 0.9920\n",
      "Epoch 239/500\n",
      "500/500 [==============================] - 6s 13ms/step - loss: 0.0452 - sparse_categorical_accuracy: 0.9919\n",
      "Epoch 240/500\n",
      "500/500 [==============================] - 6s 13ms/step - loss: 0.0355 - sparse_categorical_accuracy: 0.9930\n",
      "Epoch 241/500\n",
      "500/500 [==============================] - 6s 12ms/step - loss: 0.0450 - sparse_categorical_accuracy: 0.9920\n",
      "Epoch 242/500\n",
      "500/500 [==============================] - 6s 13ms/step - loss: 0.0568 - sparse_categorical_accuracy: 0.9899\n",
      "Epoch 243/500\n",
      "500/500 [==============================] - 6s 13ms/step - loss: 0.0371 - sparse_categorical_accuracy: 0.9926\n",
      "Epoch 244/500\n",
      "500/500 [==============================] - 6s 12ms/step - loss: 0.0402 - sparse_categorical_accuracy: 0.9923\n",
      "Epoch 245/500\n",
      "500/500 [==============================] - 6s 12ms/step - loss: 0.0395 - sparse_categorical_accuracy: 0.9930\n",
      "Epoch 246/500\n",
      "500/500 [==============================] - 6s 12ms/step - loss: 0.0609 - sparse_categorical_accuracy: 0.9899\n",
      "Epoch 247/500\n",
      "500/500 [==============================] - 6s 12ms/step - loss: 0.0459 - sparse_categorical_accuracy: 0.9914\n",
      "Epoch 248/500\n",
      "500/500 [==============================] - 6s 12ms/step - loss: 0.0402 - sparse_categorical_accuracy: 0.9929\n",
      "Epoch 249/500\n",
      "500/500 [==============================] - 6s 12ms/step - loss: 0.0450 - sparse_categorical_accuracy: 0.9913\n",
      "Epoch 250/500\n",
      "500/500 [==============================] - 6s 13ms/step - loss: 0.0455 - sparse_categorical_accuracy: 0.9913\n",
      "Epoch 251/500\n",
      "500/500 [==============================] - 6s 12ms/step - loss: 0.0548 - sparse_categorical_accuracy: 0.9912\n",
      "Epoch 252/500\n",
      "500/500 [==============================] - 6s 12ms/step - loss: 0.0579 - sparse_categorical_accuracy: 0.9901\n",
      "Epoch 253/500\n",
      "500/500 [==============================] - 6s 12ms/step - loss: 0.0433 - sparse_categorical_accuracy: 0.9918\n",
      "Epoch 254/500\n",
      "500/500 [==============================] - 6s 12ms/step - loss: 0.0503 - sparse_categorical_accuracy: 0.9909\n",
      "Epoch 255/500\n",
      "500/500 [==============================] - 6s 12ms/step - loss: 0.0452 - sparse_categorical_accuracy: 0.9922\n",
      "Epoch 256/500\n",
      "500/500 [==============================] - 6s 12ms/step - loss: 0.0358 - sparse_categorical_accuracy: 0.9928\n",
      "Epoch 257/500\n",
      "500/500 [==============================] - 6s 12ms/step - loss: 0.0556 - sparse_categorical_accuracy: 0.9910\n",
      "Epoch 258/500\n",
      "500/500 [==============================] - 6s 12ms/step - loss: 0.0402 - sparse_categorical_accuracy: 0.9931\n",
      "Epoch 259/500\n",
      "500/500 [==============================] - 6s 12ms/step - loss: 0.0461 - sparse_categorical_accuracy: 0.9924\n",
      "Epoch 260/500\n",
      "500/500 [==============================] - 6s 12ms/step - loss: 0.0480 - sparse_categorical_accuracy: 0.9922\n",
      "Epoch 261/500\n",
      "500/500 [==============================] - 6s 12ms/step - loss: 0.0474 - sparse_categorical_accuracy: 0.9916\n",
      "Epoch 262/500\n",
      "500/500 [==============================] - 6s 12ms/step - loss: 0.0582 - sparse_categorical_accuracy: 0.9907\n",
      "Epoch 263/500\n",
      "500/500 [==============================] - 6s 12ms/step - loss: 0.0595 - sparse_categorical_accuracy: 0.9912\n",
      "Epoch 264/500\n",
      "500/500 [==============================] - 6s 12ms/step - loss: 0.0389 - sparse_categorical_accuracy: 0.9928\n",
      "Epoch 265/500\n",
      "500/500 [==============================] - 6s 12ms/step - loss: 0.0488 - sparse_categorical_accuracy: 0.9921\n",
      "Epoch 266/500\n",
      "500/500 [==============================] - 6s 12ms/step - loss: 0.0407 - sparse_categorical_accuracy: 0.9931\n",
      "Epoch 267/500\n",
      "500/500 [==============================] - 6s 12ms/step - loss: 0.0459 - sparse_categorical_accuracy: 0.9925\n",
      "Epoch 268/500\n",
      "500/500 [==============================] - 6s 12ms/step - loss: 0.0452 - sparse_categorical_accuracy: 0.9922\n",
      "Epoch 269/500\n",
      "500/500 [==============================] - 6s 12ms/step - loss: 0.0554 - sparse_categorical_accuracy: 0.9911\n",
      "Epoch 270/500\n",
      "500/500 [==============================] - 6s 12ms/step - loss: 0.0326 - sparse_categorical_accuracy: 0.9946\n",
      "Epoch 271/500\n",
      "500/500 [==============================] - 6s 12ms/step - loss: 0.0543 - sparse_categorical_accuracy: 0.9914\n",
      "Epoch 272/500\n",
      "500/500 [==============================] - 6s 12ms/step - loss: 0.0577 - sparse_categorical_accuracy: 0.9908\n",
      "Epoch 273/500\n",
      "500/500 [==============================] - 6s 12ms/step - loss: 0.0387 - sparse_categorical_accuracy: 0.9929\n",
      "Epoch 274/500\n",
      "500/500 [==============================] - 6s 12ms/step - loss: 0.0556 - sparse_categorical_accuracy: 0.9913\n",
      "Epoch 275/500\n",
      "500/500 [==============================] - 6s 12ms/step - loss: 0.0432 - sparse_categorical_accuracy: 0.9926\n",
      "Epoch 276/500\n",
      "500/500 [==============================] - 6s 12ms/step - loss: 0.0431 - sparse_categorical_accuracy: 0.9923\n",
      "Epoch 277/500\n",
      "500/500 [==============================] - 6s 12ms/step - loss: 0.0505 - sparse_categorical_accuracy: 0.9917\n",
      "Epoch 278/500\n",
      "500/500 [==============================] - 6s 12ms/step - loss: 0.0466 - sparse_categorical_accuracy: 0.9922\n",
      "Epoch 279/500\n",
      "500/500 [==============================] - 6s 12ms/step - loss: 0.0507 - sparse_categorical_accuracy: 0.9915\n",
      "Epoch 280/500\n",
      "500/500 [==============================] - 6s 12ms/step - loss: 0.0382 - sparse_categorical_accuracy: 0.9935\n",
      "Epoch 281/500\n",
      "500/500 [==============================] - 6s 12ms/step - loss: 0.0491 - sparse_categorical_accuracy: 0.9916\n",
      "Epoch 282/500\n",
      "500/500 [==============================] - 6s 12ms/step - loss: 0.0392 - sparse_categorical_accuracy: 0.9932\n",
      "Epoch 283/500\n",
      "500/500 [==============================] - 6s 12ms/step - loss: 0.0386 - sparse_categorical_accuracy: 0.9929\n",
      "Epoch 284/500\n",
      "500/500 [==============================] - 6s 12ms/step - loss: 0.0414 - sparse_categorical_accuracy: 0.9927\n",
      "Epoch 285/500\n",
      "500/500 [==============================] - 6s 12ms/step - loss: 0.0605 - sparse_categorical_accuracy: 0.9910\n",
      "Epoch 286/500\n",
      "500/500 [==============================] - 6s 12ms/step - loss: 0.0548 - sparse_categorical_accuracy: 0.9910\n",
      "Epoch 287/500\n",
      "500/500 [==============================] - 6s 12ms/step - loss: 0.0436 - sparse_categorical_accuracy: 0.9931\n",
      "Epoch 288/500\n",
      "500/500 [==============================] - 6s 12ms/step - loss: 0.0482 - sparse_categorical_accuracy: 0.9925\n",
      "Epoch 289/500\n",
      "500/500 [==============================] - 6s 12ms/step - loss: 0.0379 - sparse_categorical_accuracy: 0.9932\n",
      "Epoch 290/500\n",
      "500/500 [==============================] - 6s 12ms/step - loss: 0.0519 - sparse_categorical_accuracy: 0.9924\n",
      "Epoch 291/500\n",
      "500/500 [==============================] - 6s 12ms/step - loss: 0.0541 - sparse_categorical_accuracy: 0.9917\n",
      "Epoch 292/500\n",
      "500/500 [==============================] - 6s 12ms/step - loss: 0.0504 - sparse_categorical_accuracy: 0.9918\n",
      "Epoch 293/500\n",
      "500/500 [==============================] - 6s 12ms/step - loss: 0.0490 - sparse_categorical_accuracy: 0.9928\n",
      "Epoch 294/500\n",
      "500/500 [==============================] - 6s 12ms/step - loss: 0.0536 - sparse_categorical_accuracy: 0.9919\n",
      "Epoch 295/500\n",
      "500/500 [==============================] - 6s 12ms/step - loss: 0.0606 - sparse_categorical_accuracy: 0.9913\n",
      "Epoch 296/500\n",
      "500/500 [==============================] - 6s 12ms/step - loss: 0.0487 - sparse_categorical_accuracy: 0.9932\n",
      "Epoch 297/500\n",
      "500/500 [==============================] - 6s 12ms/step - loss: 0.0444 - sparse_categorical_accuracy: 0.9933\n",
      "Epoch 298/500\n",
      "500/500 [==============================] - 6s 12ms/step - loss: 0.0648 - sparse_categorical_accuracy: 0.9909\n",
      "Epoch 299/500\n",
      "500/500 [==============================] - 6s 12ms/step - loss: 0.0560 - sparse_categorical_accuracy: 0.9923\n",
      "Epoch 300/500\n",
      "500/500 [==============================] - 6s 12ms/step - loss: 0.0390 - sparse_categorical_accuracy: 0.9937\n",
      "Epoch 301/500\n",
      "500/500 [==============================] - 6s 12ms/step - loss: 0.0559 - sparse_categorical_accuracy: 0.9922\n",
      "Epoch 302/500\n",
      "500/500 [==============================] - 6s 12ms/step - loss: 0.0443 - sparse_categorical_accuracy: 0.9930\n",
      "Epoch 303/500\n",
      "500/500 [==============================] - 6s 12ms/step - loss: 0.0451 - sparse_categorical_accuracy: 0.9932\n",
      "Epoch 304/500\n",
      "500/500 [==============================] - 6s 12ms/step - loss: 0.0508 - sparse_categorical_accuracy: 0.9925\n",
      "Epoch 305/500\n",
      "500/500 [==============================] - 6s 12ms/step - loss: 0.0596 - sparse_categorical_accuracy: 0.9921\n",
      "Epoch 306/500\n",
      "500/500 [==============================] - 6s 12ms/step - loss: 0.0617 - sparse_categorical_accuracy: 0.9916\n",
      "Epoch 307/500\n",
      "500/500 [==============================] - 6s 12ms/step - loss: 0.0539 - sparse_categorical_accuracy: 0.9931\n",
      "Epoch 308/500\n",
      "500/500 [==============================] - 6s 12ms/step - loss: 0.0426 - sparse_categorical_accuracy: 0.9937\n",
      "Epoch 309/500\n",
      "500/500 [==============================] - 6s 12ms/step - loss: 0.0539 - sparse_categorical_accuracy: 0.9923\n",
      "Epoch 310/500\n",
      "500/500 [==============================] - 6s 12ms/step - loss: 0.0703 - sparse_categorical_accuracy: 0.9913\n",
      "Epoch 311/500\n",
      "500/500 [==============================] - 6s 12ms/step - loss: 0.0526 - sparse_categorical_accuracy: 0.9926\n",
      "Epoch 312/500\n",
      "500/500 [==============================] - 6s 12ms/step - loss: 0.0359 - sparse_categorical_accuracy: 0.9952\n",
      "Epoch 313/500\n",
      "500/500 [==============================] - 6s 12ms/step - loss: 0.0634 - sparse_categorical_accuracy: 0.9921\n",
      "Epoch 314/500\n",
      "500/500 [==============================] - 6s 12ms/step - loss: 0.0491 - sparse_categorical_accuracy: 0.9935\n",
      "Epoch 315/500\n",
      "500/500 [==============================] - 6s 12ms/step - loss: 0.0535 - sparse_categorical_accuracy: 0.9921\n",
      "Epoch 316/500\n",
      "500/500 [==============================] - 6s 12ms/step - loss: 0.0586 - sparse_categorical_accuracy: 0.9924\n",
      "Epoch 317/500\n",
      "500/500 [==============================] - 6s 12ms/step - loss: 0.0485 - sparse_categorical_accuracy: 0.9928\n",
      "Epoch 318/500\n",
      "500/500 [==============================] - 6s 12ms/step - loss: 0.0441 - sparse_categorical_accuracy: 0.9937\n",
      "Epoch 319/500\n",
      "500/500 [==============================] - 6s 12ms/step - loss: 0.0494 - sparse_categorical_accuracy: 0.9932\n",
      "Epoch 320/500\n",
      "500/500 [==============================] - 6s 12ms/step - loss: 0.0727 - sparse_categorical_accuracy: 0.9911\n",
      "Epoch 321/500\n",
      "500/500 [==============================] - 6s 12ms/step - loss: 0.0410 - sparse_categorical_accuracy: 0.9939\n",
      "Epoch 322/500\n",
      "500/500 [==============================] - 6s 12ms/step - loss: 0.0550 - sparse_categorical_accuracy: 0.9924\n",
      "Epoch 323/500\n",
      "500/500 [==============================] - 6s 12ms/step - loss: 0.0619 - sparse_categorical_accuracy: 0.9917\n",
      "Epoch 324/500\n",
      "500/500 [==============================] - 6s 12ms/step - loss: 0.0604 - sparse_categorical_accuracy: 0.9921\n",
      "Epoch 325/500\n",
      "500/500 [==============================] - 6s 12ms/step - loss: 0.0356 - sparse_categorical_accuracy: 0.9950\n",
      "Epoch 326/500\n",
      "500/500 [==============================] - 6s 12ms/step - loss: 0.0377 - sparse_categorical_accuracy: 0.9945\n",
      "Epoch 327/500\n",
      "500/500 [==============================] - 6s 12ms/step - loss: 0.0568 - sparse_categorical_accuracy: 0.9921\n",
      "Epoch 328/500\n",
      "500/500 [==============================] - 6s 12ms/step - loss: 0.0796 - sparse_categorical_accuracy: 0.9904\n",
      "Epoch 329/500\n",
      "500/500 [==============================] - 6s 12ms/step - loss: 0.0566 - sparse_categorical_accuracy: 0.9921\n",
      "Epoch 330/500\n",
      "500/500 [==============================] - 6s 12ms/step - loss: 0.0550 - sparse_categorical_accuracy: 0.9933\n",
      "Epoch 331/500\n",
      "500/500 [==============================] - 6s 12ms/step - loss: 0.0419 - sparse_categorical_accuracy: 0.9940\n",
      "Epoch 332/500\n",
      "500/500 [==============================] - 6s 12ms/step - loss: 0.0533 - sparse_categorical_accuracy: 0.9931\n",
      "Epoch 333/500\n",
      "500/500 [==============================] - 6s 12ms/step - loss: 0.0698 - sparse_categorical_accuracy: 0.9920\n",
      "Epoch 334/500\n",
      "500/500 [==============================] - 6s 12ms/step - loss: 0.0691 - sparse_categorical_accuracy: 0.9919\n",
      "Epoch 335/500\n",
      "500/500 [==============================] - 6s 12ms/step - loss: 0.0455 - sparse_categorical_accuracy: 0.9941\n",
      "Epoch 336/500\n",
      "500/500 [==============================] - 6s 12ms/step - loss: 0.0490 - sparse_categorical_accuracy: 0.9930\n",
      "Epoch 337/500\n",
      "500/500 [==============================] - 6s 12ms/step - loss: 0.0584 - sparse_categorical_accuracy: 0.9924\n",
      "Epoch 338/500\n",
      "500/500 [==============================] - 6s 12ms/step - loss: 0.0609 - sparse_categorical_accuracy: 0.9919\n",
      "Epoch 339/500\n",
      "500/500 [==============================] - 6s 12ms/step - loss: 0.0387 - sparse_categorical_accuracy: 0.9947\n",
      "Epoch 340/500\n",
      "500/500 [==============================] - 6s 12ms/step - loss: 0.0460 - sparse_categorical_accuracy: 0.9939\n",
      "Epoch 341/500\n",
      "500/500 [==============================] - 6s 12ms/step - loss: 0.0733 - sparse_categorical_accuracy: 0.9914\n",
      "Epoch 342/500\n",
      "500/500 [==============================] - 6s 12ms/step - loss: 0.0568 - sparse_categorical_accuracy: 0.9926\n",
      "Epoch 343/500\n",
      "500/500 [==============================] - 6s 12ms/step - loss: 0.0659 - sparse_categorical_accuracy: 0.9920\n",
      "Epoch 344/500\n",
      "500/500 [==============================] - 6s 12ms/step - loss: 0.0491 - sparse_categorical_accuracy: 0.9934\n",
      "Epoch 345/500\n",
      "500/500 [==============================] - 6s 12ms/step - loss: 0.0488 - sparse_categorical_accuracy: 0.9932\n",
      "Epoch 346/500\n",
      "500/500 [==============================] - 6s 12ms/step - loss: 0.0757 - sparse_categorical_accuracy: 0.9914\n",
      "Epoch 347/500\n",
      "500/500 [==============================] - 6s 12ms/step - loss: 0.0645 - sparse_categorical_accuracy: 0.9926\n",
      "Epoch 348/500\n",
      "500/500 [==============================] - 6s 12ms/step - loss: 0.0493 - sparse_categorical_accuracy: 0.9941\n",
      "Epoch 349/500\n",
      "500/500 [==============================] - 6s 12ms/step - loss: 0.0619 - sparse_categorical_accuracy: 0.9926\n",
      "Epoch 350/500\n",
      "500/500 [==============================] - 6s 12ms/step - loss: 0.0480 - sparse_categorical_accuracy: 0.9941\n",
      "Epoch 351/500\n",
      "500/500 [==============================] - 6s 12ms/step - loss: 0.0659 - sparse_categorical_accuracy: 0.9929\n",
      "Epoch 352/500\n",
      "500/500 [==============================] - 6s 12ms/step - loss: 0.0591 - sparse_categorical_accuracy: 0.9925\n",
      "Epoch 353/500\n",
      "500/500 [==============================] - 6s 12ms/step - loss: 0.0692 - sparse_categorical_accuracy: 0.9924\n",
      "Epoch 354/500\n",
      "500/500 [==============================] - 6s 12ms/step - loss: 0.0517 - sparse_categorical_accuracy: 0.9942\n",
      "Epoch 355/500\n",
      "500/500 [==============================] - 6s 12ms/step - loss: 0.0497 - sparse_categorical_accuracy: 0.9942\n",
      "Epoch 356/500\n",
      "500/500 [==============================] - 6s 12ms/step - loss: 0.0758 - sparse_categorical_accuracy: 0.9912\n",
      "Epoch 357/500\n",
      "500/500 [==============================] - 6s 12ms/step - loss: 0.0645 - sparse_categorical_accuracy: 0.9933\n",
      "Epoch 358/500\n",
      "500/500 [==============================] - 6s 12ms/step - loss: 0.0456 - sparse_categorical_accuracy: 0.9946\n",
      "Epoch 359/500\n",
      "500/500 [==============================] - 6s 12ms/step - loss: 0.0606 - sparse_categorical_accuracy: 0.9931\n",
      "Epoch 360/500\n",
      "500/500 [==============================] - 6s 12ms/step - loss: 0.0623 - sparse_categorical_accuracy: 0.9926\n",
      "Epoch 361/500\n",
      "500/500 [==============================] - 6s 12ms/step - loss: 0.0636 - sparse_categorical_accuracy: 0.9930\n",
      "Epoch 362/500\n",
      "500/500 [==============================] - 6s 12ms/step - loss: 0.0644 - sparse_categorical_accuracy: 0.9929\n",
      "Epoch 363/500\n",
      "500/500 [==============================] - 6s 12ms/step - loss: 0.0617 - sparse_categorical_accuracy: 0.9929\n",
      "Epoch 364/500\n",
      "500/500 [==============================] - 6s 12ms/step - loss: 0.0533 - sparse_categorical_accuracy: 0.9934\n",
      "Epoch 365/500\n",
      "500/500 [==============================] - 6s 12ms/step - loss: 0.0701 - sparse_categorical_accuracy: 0.9919\n",
      "Epoch 366/500\n",
      "500/500 [==============================] - 6s 12ms/step - loss: 0.0649 - sparse_categorical_accuracy: 0.9938\n",
      "Epoch 367/500\n",
      "500/500 [==============================] - 6s 12ms/step - loss: 0.0589 - sparse_categorical_accuracy: 0.9936\n",
      "Epoch 368/500\n",
      "500/500 [==============================] - 6s 12ms/step - loss: 0.0618 - sparse_categorical_accuracy: 0.9934\n",
      "Epoch 369/500\n",
      "500/500 [==============================] - 6s 12ms/step - loss: 0.0625 - sparse_categorical_accuracy: 0.9933\n",
      "Epoch 370/500\n",
      "500/500 [==============================] - 6s 12ms/step - loss: 0.0490 - sparse_categorical_accuracy: 0.9941\n",
      "Epoch 371/500\n",
      "500/500 [==============================] - 6s 12ms/step - loss: 0.0619 - sparse_categorical_accuracy: 0.9929\n",
      "Epoch 372/500\n",
      "500/500 [==============================] - 6s 12ms/step - loss: 0.0708 - sparse_categorical_accuracy: 0.9918\n",
      "Epoch 373/500\n",
      "500/500 [==============================] - 6s 12ms/step - loss: 0.0525 - sparse_categorical_accuracy: 0.9936\n",
      "Epoch 374/500\n",
      "500/500 [==============================] - 6s 12ms/step - loss: 0.0790 - sparse_categorical_accuracy: 0.9922\n",
      "Epoch 375/500\n",
      "500/500 [==============================] - 6s 12ms/step - loss: 0.0546 - sparse_categorical_accuracy: 0.9936\n",
      "Epoch 376/500\n",
      "500/500 [==============================] - 6s 12ms/step - loss: 0.0629 - sparse_categorical_accuracy: 0.9931\n",
      "Epoch 377/500\n",
      "500/500 [==============================] - 6s 12ms/step - loss: 0.0662 - sparse_categorical_accuracy: 0.9933\n",
      "Epoch 378/500\n",
      "500/500 [==============================] - 6s 12ms/step - loss: 0.0619 - sparse_categorical_accuracy: 0.9937\n",
      "Epoch 379/500\n",
      "500/500 [==============================] - 6s 12ms/step - loss: 0.0766 - sparse_categorical_accuracy: 0.9919\n",
      "Epoch 380/500\n",
      "500/500 [==============================] - 6s 12ms/step - loss: 0.0779 - sparse_categorical_accuracy: 0.9922\n",
      "Epoch 381/500\n",
      "500/500 [==============================] - 6s 12ms/step - loss: 0.0539 - sparse_categorical_accuracy: 0.9939\n",
      "Epoch 382/500\n",
      "500/500 [==============================] - 6s 12ms/step - loss: 0.0546 - sparse_categorical_accuracy: 0.9942\n",
      "Epoch 383/500\n",
      "500/500 [==============================] - 6s 12ms/step - loss: 0.0546 - sparse_categorical_accuracy: 0.9940\n",
      "Epoch 384/500\n",
      "500/500 [==============================] - 6s 12ms/step - loss: 0.0908 - sparse_categorical_accuracy: 0.9915\n",
      "Epoch 385/500\n",
      "500/500 [==============================] - 6s 12ms/step - loss: 0.0587 - sparse_categorical_accuracy: 0.9935\n",
      "Epoch 386/500\n",
      "500/500 [==============================] - 6s 12ms/step - loss: 0.0657 - sparse_categorical_accuracy: 0.9935\n",
      "Epoch 387/500\n",
      "500/500 [==============================] - 6s 12ms/step - loss: 0.0638 - sparse_categorical_accuracy: 0.9933\n",
      "Epoch 388/500\n",
      "500/500 [==============================] - 6s 12ms/step - loss: 0.0634 - sparse_categorical_accuracy: 0.9936\n",
      "Epoch 389/500\n",
      "500/500 [==============================] - 6s 12ms/step - loss: 0.0510 - sparse_categorical_accuracy: 0.9946\n",
      "Epoch 390/500\n",
      "500/500 [==============================] - 6s 12ms/step - loss: 0.0598 - sparse_categorical_accuracy: 0.9941\n",
      "Epoch 391/500\n",
      "500/500 [==============================] - 6s 12ms/step - loss: 0.0862 - sparse_categorical_accuracy: 0.9916\n",
      "Epoch 392/500\n",
      "500/500 [==============================] - 6s 12ms/step - loss: 0.0515 - sparse_categorical_accuracy: 0.9945\n",
      "Epoch 393/500\n",
      "500/500 [==============================] - 6s 12ms/step - loss: 0.0679 - sparse_categorical_accuracy: 0.9940\n",
      "Epoch 394/500\n",
      "500/500 [==============================] - 6s 12ms/step - loss: 0.0843 - sparse_categorical_accuracy: 0.9921\n",
      "Epoch 395/500\n",
      "500/500 [==============================] - 6s 12ms/step - loss: 0.0615 - sparse_categorical_accuracy: 0.9933\n",
      "Epoch 396/500\n",
      "500/500 [==============================] - 6s 12ms/step - loss: 0.0600 - sparse_categorical_accuracy: 0.9938\n",
      "Epoch 397/500\n",
      "500/500 [==============================] - 6s 12ms/step - loss: 0.0713 - sparse_categorical_accuracy: 0.9930\n",
      "Epoch 398/500\n",
      "500/500 [==============================] - 6s 12ms/step - loss: 0.0629 - sparse_categorical_accuracy: 0.9941\n",
      "Epoch 399/500\n",
      "500/500 [==============================] - 6s 12ms/step - loss: 0.0707 - sparse_categorical_accuracy: 0.9931\n",
      "Epoch 400/500\n",
      "500/500 [==============================] - 6s 12ms/step - loss: 0.0632 - sparse_categorical_accuracy: 0.9940\n",
      "Epoch 401/500\n",
      "500/500 [==============================] - 6s 12ms/step - loss: 0.0671 - sparse_categorical_accuracy: 0.9934\n",
      "Epoch 402/500\n",
      "500/500 [==============================] - 6s 12ms/step - loss: 0.0677 - sparse_categorical_accuracy: 0.9935\n",
      "Epoch 403/500\n",
      "500/500 [==============================] - 6s 12ms/step - loss: 0.0744 - sparse_categorical_accuracy: 0.9933\n",
      "Epoch 404/500\n",
      "500/500 [==============================] - 6s 12ms/step - loss: 0.0799 - sparse_categorical_accuracy: 0.9925\n",
      "Epoch 405/500\n",
      "500/500 [==============================] - 6s 12ms/step - loss: 0.0663 - sparse_categorical_accuracy: 0.9948\n",
      "Epoch 406/500\n",
      "500/500 [==============================] - 6s 12ms/step - loss: 0.0614 - sparse_categorical_accuracy: 0.9946\n",
      "Epoch 407/500\n",
      "500/500 [==============================] - 6s 12ms/step - loss: 0.0648 - sparse_categorical_accuracy: 0.9939\n",
      "Epoch 408/500\n",
      "500/500 [==============================] - 6s 12ms/step - loss: 0.0617 - sparse_categorical_accuracy: 0.9936\n",
      "Epoch 409/500\n",
      "500/500 [==============================] - 6s 12ms/step - loss: 0.1003 - sparse_categorical_accuracy: 0.9921\n",
      "Epoch 410/500\n",
      "500/500 [==============================] - 6s 12ms/step - loss: 0.0641 - sparse_categorical_accuracy: 0.9943\n",
      "Epoch 411/500\n",
      "500/500 [==============================] - 6s 12ms/step - loss: 0.0652 - sparse_categorical_accuracy: 0.9937\n",
      "Epoch 412/500\n",
      "500/500 [==============================] - 6s 12ms/step - loss: 0.0737 - sparse_categorical_accuracy: 0.9931\n",
      "Epoch 413/500\n",
      "500/500 [==============================] - 6s 12ms/step - loss: 0.0819 - sparse_categorical_accuracy: 0.9931\n",
      "Epoch 414/500\n",
      "500/500 [==============================] - 6s 12ms/step - loss: 0.0713 - sparse_categorical_accuracy: 0.9940\n",
      "Epoch 415/500\n",
      "500/500 [==============================] - 6s 12ms/step - loss: 0.0641 - sparse_categorical_accuracy: 0.9940\n",
      "Epoch 416/500\n",
      "500/500 [==============================] - 6s 12ms/step - loss: 0.0778 - sparse_categorical_accuracy: 0.9929\n",
      "Epoch 417/500\n",
      "500/500 [==============================] - 6s 12ms/step - loss: 0.0913 - sparse_categorical_accuracy: 0.9926\n",
      "Epoch 418/500\n",
      "500/500 [==============================] - 6s 12ms/step - loss: 0.0789 - sparse_categorical_accuracy: 0.9935\n",
      "Epoch 419/500\n",
      "500/500 [==============================] - 6s 12ms/step - loss: 0.0856 - sparse_categorical_accuracy: 0.9932\n",
      "Epoch 420/500\n",
      "500/500 [==============================] - 6s 12ms/step - loss: 0.0545 - sparse_categorical_accuracy: 0.9951\n",
      "Epoch 421/500\n",
      "500/500 [==============================] - 6s 12ms/step - loss: 0.0802 - sparse_categorical_accuracy: 0.9932\n",
      "Epoch 422/500\n",
      "500/500 [==============================] - 6s 12ms/step - loss: 0.0795 - sparse_categorical_accuracy: 0.9932\n",
      "Epoch 423/500\n",
      "500/500 [==============================] - 6s 12ms/step - loss: 0.0618 - sparse_categorical_accuracy: 0.9942\n",
      "Epoch 424/500\n",
      "500/500 [==============================] - 6s 12ms/step - loss: 0.0804 - sparse_categorical_accuracy: 0.9932\n",
      "Epoch 425/500\n",
      "500/500 [==============================] - 6s 12ms/step - loss: 0.0711 - sparse_categorical_accuracy: 0.9940\n",
      "Epoch 426/500\n",
      "500/500 [==============================] - 6s 12ms/step - loss: 0.0764 - sparse_categorical_accuracy: 0.9936\n",
      "Epoch 427/500\n",
      "500/500 [==============================] - 6s 12ms/step - loss: 0.0956 - sparse_categorical_accuracy: 0.9920\n",
      "Epoch 428/500\n",
      "500/500 [==============================] - 6s 12ms/step - loss: 0.0603 - sparse_categorical_accuracy: 0.9948\n",
      "Epoch 429/500\n",
      "500/500 [==============================] - 6s 12ms/step - loss: 0.0668 - sparse_categorical_accuracy: 0.9943\n",
      "Epoch 430/500\n",
      "500/500 [==============================] - 6s 12ms/step - loss: 0.0612 - sparse_categorical_accuracy: 0.9946\n",
      "Epoch 431/500\n",
      "500/500 [==============================] - 6s 12ms/step - loss: 0.0949 - sparse_categorical_accuracy: 0.9918\n",
      "Epoch 432/500\n",
      "500/500 [==============================] - 6s 12ms/step - loss: 0.0676 - sparse_categorical_accuracy: 0.9939\n",
      "Epoch 433/500\n",
      "500/500 [==============================] - 6s 12ms/step - loss: 0.0830 - sparse_categorical_accuracy: 0.9931\n",
      "Epoch 434/500\n",
      "500/500 [==============================] - 6s 12ms/step - loss: 0.0775 - sparse_categorical_accuracy: 0.9942\n",
      "Epoch 435/500\n",
      "500/500 [==============================] - 6s 12ms/step - loss: 0.0921 - sparse_categorical_accuracy: 0.9931\n",
      "Epoch 436/500\n",
      "500/500 [==============================] - 6s 12ms/step - loss: 0.0621 - sparse_categorical_accuracy: 0.9946\n",
      "Epoch 437/500\n",
      "500/500 [==============================] - 6s 12ms/step - loss: 0.0591 - sparse_categorical_accuracy: 0.9952\n",
      "Epoch 438/500\n",
      "500/500 [==============================] - 6s 12ms/step - loss: 0.1043 - sparse_categorical_accuracy: 0.9922\n",
      "Epoch 439/500\n",
      "500/500 [==============================] - 6s 12ms/step - loss: 0.0833 - sparse_categorical_accuracy: 0.9932\n",
      "Epoch 440/500\n",
      "500/500 [==============================] - 6s 12ms/step - loss: 0.0576 - sparse_categorical_accuracy: 0.9946\n",
      "Epoch 441/500\n",
      "500/500 [==============================] - 6s 12ms/step - loss: 0.0899 - sparse_categorical_accuracy: 0.9926\n",
      "Epoch 442/500\n",
      "500/500 [==============================] - 6s 12ms/step - loss: 0.0830 - sparse_categorical_accuracy: 0.9936\n",
      "Epoch 443/500\n",
      "500/500 [==============================] - 6s 12ms/step - loss: 0.1017 - sparse_categorical_accuracy: 0.9926\n",
      "Epoch 444/500\n",
      "500/500 [==============================] - 6s 12ms/step - loss: 0.0632 - sparse_categorical_accuracy: 0.9951\n",
      "Epoch 445/500\n",
      "500/500 [==============================] - 6s 12ms/step - loss: 0.0544 - sparse_categorical_accuracy: 0.9952\n",
      "Epoch 446/500\n",
      "500/500 [==============================] - 6s 12ms/step - loss: 0.0702 - sparse_categorical_accuracy: 0.9938\n",
      "Epoch 447/500\n",
      "500/500 [==============================] - 6s 12ms/step - loss: 0.0725 - sparse_categorical_accuracy: 0.9943\n",
      "Epoch 448/500\n",
      "500/500 [==============================] - 6s 12ms/step - loss: 0.0881 - sparse_categorical_accuracy: 0.9931\n",
      "Epoch 449/500\n",
      "500/500 [==============================] - 6s 12ms/step - loss: 0.0819 - sparse_categorical_accuracy: 0.9933\n",
      "Epoch 450/500\n",
      "500/500 [==============================] - 6s 12ms/step - loss: 0.0858 - sparse_categorical_accuracy: 0.9930\n",
      "Epoch 451/500\n",
      "500/500 [==============================] - 6s 12ms/step - loss: 0.0822 - sparse_categorical_accuracy: 0.9935\n",
      "Epoch 452/500\n",
      "500/500 [==============================] - 6s 12ms/step - loss: 0.0619 - sparse_categorical_accuracy: 0.9950\n",
      "Epoch 453/500\n",
      "500/500 [==============================] - 6s 12ms/step - loss: 0.0727 - sparse_categorical_accuracy: 0.9942\n",
      "Epoch 454/500\n",
      "500/500 [==============================] - 6s 12ms/step - loss: 0.0883 - sparse_categorical_accuracy: 0.9932\n",
      "Epoch 455/500\n",
      "500/500 [==============================] - 6s 12ms/step - loss: 0.0822 - sparse_categorical_accuracy: 0.9938\n",
      "Epoch 456/500\n",
      "500/500 [==============================] - 6s 12ms/step - loss: 0.0798 - sparse_categorical_accuracy: 0.9941\n",
      "Epoch 457/500\n",
      "500/500 [==============================] - 6s 12ms/step - loss: 0.0818 - sparse_categorical_accuracy: 0.9934\n",
      "Epoch 458/500\n",
      "500/500 [==============================] - 6s 12ms/step - loss: 0.0868 - sparse_categorical_accuracy: 0.9935\n",
      "Epoch 459/500\n",
      "500/500 [==============================] - 6s 12ms/step - loss: 0.0552 - sparse_categorical_accuracy: 0.9958\n",
      "Epoch 460/500\n",
      "500/500 [==============================] - 6s 12ms/step - loss: 0.0992 - sparse_categorical_accuracy: 0.9928\n",
      "Epoch 461/500\n",
      "500/500 [==============================] - 6s 12ms/step - loss: 0.0957 - sparse_categorical_accuracy: 0.9934\n",
      "Epoch 462/500\n",
      "500/500 [==============================] - 6s 12ms/step - loss: 0.0652 - sparse_categorical_accuracy: 0.9955\n",
      "Epoch 463/500\n",
      "500/500 [==============================] - 6s 12ms/step - loss: 0.0848 - sparse_categorical_accuracy: 0.9939\n",
      "Epoch 464/500\n",
      "500/500 [==============================] - 6s 12ms/step - loss: 0.0909 - sparse_categorical_accuracy: 0.9936\n",
      "Epoch 465/500\n",
      "500/500 [==============================] - 6s 12ms/step - loss: 0.0896 - sparse_categorical_accuracy: 0.9934\n",
      "Epoch 466/500\n",
      "500/500 [==============================] - 6s 12ms/step - loss: 0.0793 - sparse_categorical_accuracy: 0.9937\n",
      "Epoch 467/500\n",
      "500/500 [==============================] - 6s 12ms/step - loss: 0.0936 - sparse_categorical_accuracy: 0.9933\n",
      "Epoch 468/500\n",
      "500/500 [==============================] - 6s 12ms/step - loss: 0.0685 - sparse_categorical_accuracy: 0.9950\n",
      "Epoch 469/500\n",
      "500/500 [==============================] - 6s 12ms/step - loss: 0.1071 - sparse_categorical_accuracy: 0.9934\n",
      "Epoch 470/500\n",
      "500/500 [==============================] - 6s 12ms/step - loss: 0.0630 - sparse_categorical_accuracy: 0.9955\n",
      "Epoch 471/500\n",
      "500/500 [==============================] - 6s 12ms/step - loss: 0.0584 - sparse_categorical_accuracy: 0.9955\n",
      "Epoch 472/500\n",
      "500/500 [==============================] - 6s 12ms/step - loss: 0.0976 - sparse_categorical_accuracy: 0.9938\n",
      "Epoch 473/500\n",
      "500/500 [==============================] - 6s 12ms/step - loss: 0.0747 - sparse_categorical_accuracy: 0.9943\n",
      "Epoch 474/500\n",
      "500/500 [==============================] - 6s 12ms/step - loss: 0.0639 - sparse_categorical_accuracy: 0.9951\n",
      "Epoch 475/500\n",
      "500/500 [==============================] - 6s 12ms/step - loss: 0.0799 - sparse_categorical_accuracy: 0.9942\n",
      "Epoch 476/500\n",
      "500/500 [==============================] - 6s 12ms/step - loss: 0.1189 - sparse_categorical_accuracy: 0.9923\n",
      "Epoch 477/500\n",
      "500/500 [==============================] - 6s 12ms/step - loss: 0.0727 - sparse_categorical_accuracy: 0.9946\n",
      "Epoch 478/500\n",
      "500/500 [==============================] - 6s 12ms/step - loss: 0.0639 - sparse_categorical_accuracy: 0.9949\n",
      "Epoch 479/500\n",
      "500/500 [==============================] - 6s 12ms/step - loss: 0.0572 - sparse_categorical_accuracy: 0.9955\n",
      "Epoch 480/500\n",
      "500/500 [==============================] - 6s 12ms/step - loss: 0.1195 - sparse_categorical_accuracy: 0.9931\n",
      "Epoch 481/500\n",
      "500/500 [==============================] - 6s 12ms/step - loss: 0.0984 - sparse_categorical_accuracy: 0.9937\n",
      "Epoch 482/500\n",
      "500/500 [==============================] - 6s 12ms/step - loss: 0.0850 - sparse_categorical_accuracy: 0.9939\n",
      "Epoch 483/500\n",
      "500/500 [==============================] - 6s 12ms/step - loss: 0.0813 - sparse_categorical_accuracy: 0.9948\n",
      "Epoch 484/500\n",
      "500/500 [==============================] - 6s 12ms/step - loss: 0.0555 - sparse_categorical_accuracy: 0.9957\n",
      "Epoch 485/500\n",
      "500/500 [==============================] - 6s 12ms/step - loss: 0.0845 - sparse_categorical_accuracy: 0.9938\n",
      "Epoch 486/500\n",
      "500/500 [==============================] - 6s 12ms/step - loss: 0.0717 - sparse_categorical_accuracy: 0.9947\n",
      "Epoch 487/500\n",
      "500/500 [==============================] - 6s 12ms/step - loss: 0.0776 - sparse_categorical_accuracy: 0.9944\n",
      "Epoch 488/500\n",
      "500/500 [==============================] - 6s 12ms/step - loss: 0.0933 - sparse_categorical_accuracy: 0.9940\n",
      "Epoch 489/500\n",
      "500/500 [==============================] - 6s 12ms/step - loss: 0.1235 - sparse_categorical_accuracy: 0.9922\n",
      "Epoch 490/500\n",
      "500/500 [==============================] - 6s 12ms/step - loss: 0.0811 - sparse_categorical_accuracy: 0.9947\n",
      "Epoch 491/500\n",
      "500/500 [==============================] - 6s 12ms/step - loss: 0.0883 - sparse_categorical_accuracy: 0.9945\n",
      "Epoch 492/500\n",
      "500/500 [==============================] - 6s 12ms/step - loss: 0.0887 - sparse_categorical_accuracy: 0.9940\n",
      "Epoch 493/500\n",
      "500/500 [==============================] - 6s 12ms/step - loss: 0.1031 - sparse_categorical_accuracy: 0.9930\n",
      "Epoch 494/500\n",
      "500/500 [==============================] - 6s 12ms/step - loss: 0.0697 - sparse_categorical_accuracy: 0.9953\n",
      "Epoch 495/500\n",
      "500/500 [==============================] - 6s 12ms/step - loss: 0.0760 - sparse_categorical_accuracy: 0.9950\n",
      "Epoch 496/500\n",
      "500/500 [==============================] - 6s 12ms/step - loss: 0.1051 - sparse_categorical_accuracy: 0.9936\n",
      "Epoch 497/500\n",
      "500/500 [==============================] - 6s 12ms/step - loss: 0.0872 - sparse_categorical_accuracy: 0.9941\n",
      "Epoch 498/500\n",
      "500/500 [==============================] - 6s 12ms/step - loss: 0.0858 - sparse_categorical_accuracy: 0.9945\n",
      "Epoch 499/500\n",
      "500/500 [==============================] - 6s 12ms/step - loss: 0.0709 - sparse_categorical_accuracy: 0.9951\n",
      "Epoch 500/500\n",
      "500/500 [==============================] - 6s 12ms/step - loss: 0.1084 - sparse_categorical_accuracy: 0.9934\n"
     ]
    },
    {
     "data": {
      "text/plain": [
       "<tensorflow.python.keras.callbacks.History at 0x7fbc7044ea90>"
      ]
     },
     "execution_count": 25,
     "metadata": {},
     "output_type": "execute_result"
    }
   ],
   "source": [
    "model.fit(X_train, y_train, epochs=500, batch_size=100)"
   ]
  },
  {
   "cell_type": "markdown",
   "metadata": {
    "colab_type": "text",
    "id": "D8C7Pm0NuOrJ"
   },
   "source": [
    "### Evaluar el modelo"
   ]
  },
  {
   "cell_type": "code",
   "execution_count": 26,
   "metadata": {
    "colab": {
     "base_uri": "https://localhost:8080/",
     "height": 34
    },
    "colab_type": "code",
    "executionInfo": {
     "elapsed": 2006,
     "status": "ok",
     "timestamp": 1564609763373,
     "user": {
      "displayName": "Juan Gabriel Gomila Salas",
      "photoUrl": "https://lh4.googleusercontent.com/-RJ38mzk8Fog/AAAAAAAAAAI/AAAAAAAAA_g/VV8PcNMAUrk/s64/photo.jpg",
      "userId": "03106941341701838274"
     },
     "user_tz": -120
    },
    "id": "Z9r8TtNet3D0",
    "outputId": "072c4a8a-b049-4282-ca01-839ea0ed9be8"
   },
   "outputs": [
    {
     "name": "stdout",
     "output_type": "stream",
     "text": [
      "313/313 [==============================] - 1s 2ms/step - loss: 18.1040 - sparse_categorical_accuracy: 0.7448\n"
     ]
    }
   ],
   "source": [
    "test_loss, test_accuracy = model.evaluate(X_test, y_test)"
   ]
  },
  {
   "cell_type": "code",
   "execution_count": 27,
   "metadata": {
    "colab": {
     "base_uri": "https://localhost:8080/",
     "height": 34
    },
    "colab_type": "code",
    "executionInfo": {
     "elapsed": 1416,
     "status": "ok",
     "timestamp": 1564609770437,
     "user": {
      "displayName": "Juan Gabriel Gomila Salas",
      "photoUrl": "https://lh4.googleusercontent.com/-RJ38mzk8Fog/AAAAAAAAAAI/AAAAAAAAA_g/VV8PcNMAUrk/s64/photo.jpg",
      "userId": "03106941341701838274"
     },
     "user_tz": -120
    },
    "id": "0rpAPpfzuV0p",
    "outputId": "20f0d11b-4aed-4856-e8fe-782f51d2f4ca",
    "scrolled": true
   },
   "outputs": [
    {
     "name": "stdout",
     "output_type": "stream",
     "text": [
      "Test accuracy: 0.7447999715805054\n"
     ]
    }
   ],
   "source": [
    "print(\"Test accuracy: {}\".format(test_accuracy))"
   ]
  },
  {
   "cell_type": "code",
   "execution_count": null,
   "metadata": {},
   "outputs": [],
   "source": []
  },
  {
   "cell_type": "code",
   "execution_count": null,
   "metadata": {},
   "outputs": [],
   "source": [
    "\n"
   ]
  }
 ],
 "metadata": {
  "accelerator": "GPU",
  "colab": {
   "collapsed_sections": [],
   "name": "Colab 4 - Construir una Red Neuronal Convolucional con TensorFlow 2.0.ipynb",
   "provenance": [
    {
     "file_id": "1M90124HfEO_zORhbVDdFeDMHV743eJmc",
     "timestamp": 1564596643353
    },
    {
     "file_id": "11eF0dRN2zWmXeBI3vQa2OTE-gzRp3Q7o",
     "timestamp": 1558700838561
    }
   ]
  },
  "kernelspec": {
   "display_name": "Python 3 (ipykernel)",
   "language": "python",
   "name": "python3"
  },
  "language_info": {
   "codemirror_mode": {
    "name": "ipython",
    "version": 3
   },
   "file_extension": ".py",
   "mimetype": "text/x-python",
   "name": "python",
   "nbconvert_exporter": "python",
   "pygments_lexer": "ipython3",
   "version": "3.9.7"
  }
 },
 "nbformat": 4,
 "nbformat_minor": 4
}
